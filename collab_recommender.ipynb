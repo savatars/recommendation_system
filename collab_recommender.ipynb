{
  "nbformat": 4,
  "nbformat_minor": 0,
  "metadata": {
    "colab": {
      "name": "hybrid.ipynb",
      "provenance": [],
      "collapsed_sections": [],
      "machine_shape": "hm"
    },
    "kernelspec": {
      "name": "python3",
      "display_name": "Python 3"
    },
    "accelerator": "GPU"
  },
  "cells": [
    {
      "cell_type": "code",
      "metadata": {
        "id": "KNvivPJpErrx",
        "colab_type": "code",
        "outputId": "5f153396-e57e-4d36-f69b-ef267c4c1a0d",
        "colab": {
          "base_uri": "https://localhost:8080/",
          "height": 50
        }
      },
      "source": [
        "%tensorflow_version 2.x\n",
        "import tensorflow as tf\n",
        "device_name = tf.test.gpu_device_name()\n",
        "if device_name != '/device:GPU:0':\n",
        "  raise SystemError('GPU device not found')\n",
        "print('Found GPU at: {}'.format(device_name))"
      ],
      "execution_count": 0,
      "outputs": [
        {
          "output_type": "stream",
          "text": [
            "TensorFlow 2.x selected.\n",
            "Found GPU at: /device:GPU:0\n"
          ],
          "name": "stdout"
        }
      ]
    },
    {
      "cell_type": "code",
      "metadata": {
        "id": "iT5j1dUnE0lH",
        "colab_type": "code",
        "outputId": "c77213af-5f1b-4570-9064-b269a06502dd",
        "colab": {
          "base_uri": "https://localhost:8080/",
          "height": 34
        }
      },
      "source": [
        "from google.colab import drive\n",
        "drive.mount('/content/gdrive')"
      ],
      "execution_count": 1,
      "outputs": [
        {
          "output_type": "stream",
          "text": [
            "Mounted at /content/gdrive\n"
          ],
          "name": "stdout"
        }
      ]
    },
    {
      "cell_type": "code",
      "metadata": {
        "id": "M5wM4ICHFySj",
        "colab_type": "code",
        "outputId": "5bab4cd1-ee75-4331-e95f-40114f975d27",
        "colab": {
          "base_uri": "https://localhost:8080/",
          "height": 67
        }
      },
      "source": [
        "!ls \"/content/gdrive/My Drive/\""
      ],
      "execution_count": 2,
      "outputs": [
        {
          "output_type": "stream",
          "text": [
            "'1 (1).s'   2.s       '4 (1).s'   4.s\t     array_add.s        fibonacci.s\n",
            " 1.s\t   '3 (1).s'   4a.s\t '5 (1).s'  'Colab Notebooks'   linear.s\n",
            "'2 (1).s'   3.s        4b.s\t  5.s\t     Dataset\n"
          ],
          "name": "stdout"
        }
      ]
    },
    {
      "cell_type": "code",
      "metadata": {
        "id": "__5Ok0WkF8FW",
        "colab_type": "code",
        "outputId": "d2f94a0d-7b76-4906-a42d-418c829036d6",
        "colab": {
          "base_uri": "https://localhost:8080/",
          "height": 34
        }
      },
      "source": [
        "from google.colab import drive\n",
        "drive.mount('/content/drive')"
      ],
      "execution_count": 3,
      "outputs": [
        {
          "output_type": "stream",
          "text": [
            "Mounted at /content/drive\n"
          ],
          "name": "stdout"
        }
      ]
    },
    {
      "cell_type": "code",
      "metadata": {
        "id": "ehNgu5qUJErb",
        "colab_type": "code",
        "colab": {}
      },
      "source": [
        "import numpy as np\n",
        "import pandas as pd\n",
        "from collections import Counter\n",
        "from sklearn.model_selection import train_test_split\n",
        "import turicreate as tc"
      ],
      "execution_count": 0,
      "outputs": []
    },
    {
      "cell_type": "code",
      "metadata": {
        "id": "O94pDDXHOqC7",
        "colab_type": "code",
        "outputId": "c906a0da-ed18-43d0-ff9c-eb57869034c1",
        "colab": {
          "base_uri": "https://localhost:8080/",
          "height": 34
        }
      },
      "source": [
        "events=pd.read_csv('/content/drive/My Drive/Colab Notebooks/events.csv')\n",
        "events2=events\n",
        "events.event.unique()"
      ],
      "execution_count": 5,
      "outputs": [
        {
          "output_type": "execute_result",
          "data": {
            "text/plain": [
              "array(['view', 'addtocart', 'transaction', 'add'], dtype=object)"
            ]
          },
          "metadata": {
            "tags": []
          },
          "execution_count": 5
        }
      ]
    },
    {
      "cell_type": "code",
      "metadata": {
        "id": "YLwVvcZ9SEJa",
        "colab_type": "code",
        "outputId": "e80eabfa-e92e-4684-cd60-8161b741a0e2",
        "colab": {
          "base_uri": "https://localhost:8080/",
          "height": 402
        }
      },
      "source": [
        "events2['event']=events2['event'].replace([ 'addtocart', 'transaction', 'add'],'view',inplace=False)\n",
        "events2"
      ],
      "execution_count": 6,
      "outputs": [
        {
          "output_type": "execute_result",
          "data": {
            "text/html": [
              "<div>\n",
              "<style scoped>\n",
              "    .dataframe tbody tr th:only-of-type {\n",
              "        vertical-align: middle;\n",
              "    }\n",
              "\n",
              "    .dataframe tbody tr th {\n",
              "        vertical-align: top;\n",
              "    }\n",
              "\n",
              "    .dataframe thead th {\n",
              "        text-align: right;\n",
              "    }\n",
              "</style>\n",
              "<table border=\"1\" class=\"dataframe\">\n",
              "  <thead>\n",
              "    <tr style=\"text-align: right;\">\n",
              "      <th></th>\n",
              "      <th>timestamp</th>\n",
              "      <th>visitorid</th>\n",
              "      <th>event</th>\n",
              "      <th>itemid</th>\n",
              "      <th>transactionid</th>\n",
              "    </tr>\n",
              "  </thead>\n",
              "  <tbody>\n",
              "    <tr>\n",
              "      <th>0</th>\n",
              "      <td>1433221332117</td>\n",
              "      <td>257597</td>\n",
              "      <td>view</td>\n",
              "      <td>355908.0</td>\n",
              "      <td>NaN</td>\n",
              "    </tr>\n",
              "    <tr>\n",
              "      <th>1</th>\n",
              "      <td>1433224214164</td>\n",
              "      <td>992329</td>\n",
              "      <td>view</td>\n",
              "      <td>248676.0</td>\n",
              "      <td>NaN</td>\n",
              "    </tr>\n",
              "    <tr>\n",
              "      <th>2</th>\n",
              "      <td>1433221999827</td>\n",
              "      <td>111016</td>\n",
              "      <td>view</td>\n",
              "      <td>318965.0</td>\n",
              "      <td>NaN</td>\n",
              "    </tr>\n",
              "    <tr>\n",
              "      <th>3</th>\n",
              "      <td>1433221955914</td>\n",
              "      <td>483717</td>\n",
              "      <td>view</td>\n",
              "      <td>253185.0</td>\n",
              "      <td>NaN</td>\n",
              "    </tr>\n",
              "    <tr>\n",
              "      <th>4</th>\n",
              "      <td>1433221337106</td>\n",
              "      <td>951259</td>\n",
              "      <td>view</td>\n",
              "      <td>367447.0</td>\n",
              "      <td>NaN</td>\n",
              "    </tr>\n",
              "    <tr>\n",
              "      <th>...</th>\n",
              "      <td>...</td>\n",
              "      <td>...</td>\n",
              "      <td>...</td>\n",
              "      <td>...</td>\n",
              "      <td>...</td>\n",
              "    </tr>\n",
              "    <tr>\n",
              "      <th>2545358</th>\n",
              "      <td>1437704763808</td>\n",
              "      <td>878862</td>\n",
              "      <td>view</td>\n",
              "      <td>6552.0</td>\n",
              "      <td>NaN</td>\n",
              "    </tr>\n",
              "    <tr>\n",
              "      <th>2545359</th>\n",
              "      <td>1437704509585</td>\n",
              "      <td>828962</td>\n",
              "      <td>view</td>\n",
              "      <td>49461.0</td>\n",
              "      <td>NaN</td>\n",
              "    </tr>\n",
              "    <tr>\n",
              "      <th>2545360</th>\n",
              "      <td>1437703586293</td>\n",
              "      <td>1067033</td>\n",
              "      <td>view</td>\n",
              "      <td>150212.0</td>\n",
              "      <td>NaN</td>\n",
              "    </tr>\n",
              "    <tr>\n",
              "      <th>2545361</th>\n",
              "      <td>1437702581129</td>\n",
              "      <td>1208743</td>\n",
              "      <td>view</td>\n",
              "      <td>379387.0</td>\n",
              "      <td>NaN</td>\n",
              "    </tr>\n",
              "    <tr>\n",
              "      <th>2545362</th>\n",
              "      <td>1437705715940</td>\n",
              "      <td>130833</td>\n",
              "      <td>view</td>\n",
              "      <td>NaN</td>\n",
              "      <td>NaN</td>\n",
              "    </tr>\n",
              "  </tbody>\n",
              "</table>\n",
              "<p>2545363 rows × 5 columns</p>\n",
              "</div>"
            ],
            "text/plain": [
              "             timestamp  visitorid event    itemid  transactionid\n",
              "0        1433221332117     257597  view  355908.0            NaN\n",
              "1        1433224214164     992329  view  248676.0            NaN\n",
              "2        1433221999827     111016  view  318965.0            NaN\n",
              "3        1433221955914     483717  view  253185.0            NaN\n",
              "4        1433221337106     951259  view  367447.0            NaN\n",
              "...                ...        ...   ...       ...            ...\n",
              "2545358  1437704763808     878862  view    6552.0            NaN\n",
              "2545359  1437704509585     828962  view   49461.0            NaN\n",
              "2545360  1437703586293    1067033  view  150212.0            NaN\n",
              "2545361  1437702581129    1208743  view  379387.0            NaN\n",
              "2545362  1437705715940     130833  view       NaN            NaN\n",
              "\n",
              "[2545363 rows x 5 columns]"
            ]
          },
          "metadata": {
            "tags": []
          },
          "execution_count": 6
        }
      ]
    },
    {
      "cell_type": "code",
      "metadata": {
        "id": "tZgFtx1m-KYN",
        "colab_type": "code",
        "colab": {}
      },
      "source": [
        "events2['event'].unique()\n",
        "events=events2"
      ],
      "execution_count": 0,
      "outputs": []
    },
    {
      "cell_type": "code",
      "metadata": {
        "id": "epNG4HP1IMWt",
        "colab_type": "code",
        "colab": {}
      },
      "source": [
        "events=events[events.event != 'addtocart']\n",
        "events=events[events.event != 'transaction']\n",
        "events=events[events.event != 'add']"
      ],
      "execution_count": 0,
      "outputs": []
    },
    {
      "cell_type": "code",
      "metadata": {
        "id": "LsnEvkYgLQ0N",
        "colab_type": "code",
        "colab": {}
      },
      "source": [
        "events=events.drop(['timestamp','transactionid'],axis=1)"
      ],
      "execution_count": 0,
      "outputs": []
    },
    {
      "cell_type": "code",
      "metadata": {
        "id": "JOKwbb3eLglz",
        "colab_type": "code",
        "colab": {}
      },
      "source": [
        "events[\"purchase_count\"]=''\n",
        "events.head()\n",
        "events.columns = events.columns.str.strip()\n",
        "events.to_csv('test3.csv')"
      ],
      "execution_count": 0,
      "outputs": []
    },
    {
      "cell_type": "code",
      "metadata": {
        "id": "WDNt6_K_Nd2w",
        "colab_type": "code",
        "outputId": "194993e8-6001-4de1-f89d-3eb060c35be4",
        "colab": {
          "base_uri": "https://localhost:8080/",
          "height": 402
        }
      },
      "source": [
        "events['visitorid'].value_counts()\n",
        "events.loc[events['visitorid'] == 1150086]\n"
      ],
      "execution_count": 11,
      "outputs": [
        {
          "output_type": "execute_result",
          "data": {
            "text/html": [
              "<div>\n",
              "<style scoped>\n",
              "    .dataframe tbody tr th:only-of-type {\n",
              "        vertical-align: middle;\n",
              "    }\n",
              "\n",
              "    .dataframe tbody tr th {\n",
              "        vertical-align: top;\n",
              "    }\n",
              "\n",
              "    .dataframe thead th {\n",
              "        text-align: right;\n",
              "    }\n",
              "</style>\n",
              "<table border=\"1\" class=\"dataframe\">\n",
              "  <thead>\n",
              "    <tr style=\"text-align: right;\">\n",
              "      <th></th>\n",
              "      <th>visitorid</th>\n",
              "      <th>event</th>\n",
              "      <th>itemid</th>\n",
              "      <th>purchase_count</th>\n",
              "    </tr>\n",
              "  </thead>\n",
              "  <tbody>\n",
              "    <tr>\n",
              "      <th>226726</th>\n",
              "      <td>1150086</td>\n",
              "      <td>view</td>\n",
              "      <td>49925.0</td>\n",
              "      <td></td>\n",
              "    </tr>\n",
              "    <tr>\n",
              "      <th>226815</th>\n",
              "      <td>1150086</td>\n",
              "      <td>view</td>\n",
              "      <td>332592.0</td>\n",
              "      <td></td>\n",
              "    </tr>\n",
              "    <tr>\n",
              "      <th>226997</th>\n",
              "      <td>1150086</td>\n",
              "      <td>view</td>\n",
              "      <td>408132.0</td>\n",
              "      <td></td>\n",
              "    </tr>\n",
              "    <tr>\n",
              "      <th>227022</th>\n",
              "      <td>1150086</td>\n",
              "      <td>view</td>\n",
              "      <td>109352.0</td>\n",
              "      <td></td>\n",
              "    </tr>\n",
              "    <tr>\n",
              "      <th>227094</th>\n",
              "      <td>1150086</td>\n",
              "      <td>view</td>\n",
              "      <td>107195.0</td>\n",
              "      <td></td>\n",
              "    </tr>\n",
              "    <tr>\n",
              "      <th>...</th>\n",
              "      <td>...</td>\n",
              "      <td>...</td>\n",
              "      <td>...</td>\n",
              "      <td>...</td>\n",
              "    </tr>\n",
              "    <tr>\n",
              "      <th>2543713</th>\n",
              "      <td>1150086</td>\n",
              "      <td>view</td>\n",
              "      <td>339703.0</td>\n",
              "      <td></td>\n",
              "    </tr>\n",
              "    <tr>\n",
              "      <th>2544228</th>\n",
              "      <td>1150086</td>\n",
              "      <td>view</td>\n",
              "      <td>357132.0</td>\n",
              "      <td></td>\n",
              "    </tr>\n",
              "    <tr>\n",
              "      <th>2544250</th>\n",
              "      <td>1150086</td>\n",
              "      <td>view</td>\n",
              "      <td>304877.0</td>\n",
              "      <td></td>\n",
              "    </tr>\n",
              "    <tr>\n",
              "      <th>2544383</th>\n",
              "      <td>1150086</td>\n",
              "      <td>view</td>\n",
              "      <td>300314.0</td>\n",
              "      <td></td>\n",
              "    </tr>\n",
              "    <tr>\n",
              "      <th>2544408</th>\n",
              "      <td>1150086</td>\n",
              "      <td>view</td>\n",
              "      <td>161657.0</td>\n",
              "      <td></td>\n",
              "    </tr>\n",
              "  </tbody>\n",
              "</table>\n",
              "<p>6815 rows × 4 columns</p>\n",
              "</div>"
            ],
            "text/plain": [
              "         visitorid event    itemid purchase_count\n",
              "226726     1150086  view   49925.0               \n",
              "226815     1150086  view  332592.0               \n",
              "226997     1150086  view  408132.0               \n",
              "227022     1150086  view  109352.0               \n",
              "227094     1150086  view  107195.0               \n",
              "...            ...   ...       ...            ...\n",
              "2543713    1150086  view  339703.0               \n",
              "2544228    1150086  view  357132.0               \n",
              "2544250    1150086  view  304877.0               \n",
              "2544383    1150086  view  300314.0               \n",
              "2544408    1150086  view  161657.0               \n",
              "\n",
              "[6815 rows x 4 columns]"
            ]
          },
          "metadata": {
            "tags": []
          },
          "execution_count": 11
        }
      ]
    },
    {
      "cell_type": "code",
      "metadata": {
        "id": "SPEI00unTd-v",
        "colab_type": "code",
        "outputId": "2a9e3127-f14d-4180-f6c2-54c5c0c02255",
        "colab": {
          "base_uri": "https://localhost:8080/",
          "height": 235
        }
      },
      "source": [
        "group=events.groupby('visitorid')\n",
        "df3 = group.apply(lambda x: x['itemid'].unique())\n",
        "#df2 = pd.DataFrame({'visitorid':events.visitorid.unique()})\n",
        "df3"
      ],
      "execution_count": 12,
      "outputs": [
        {
          "output_type": "execute_result",
          "data": {
            "text/plain": [
              "visitorid\n",
              "0                     [285930.0, 357564.0, 67045.0]\n",
              "1                                         [72028.0]\n",
              "2          [216305.0, 325215.0, 342816.0, 259884.0]\n",
              "3                                        [385090.0]\n",
              "4                                        [177677.0]\n",
              "                             ...                   \n",
              "1407575                                  [121220.0]\n",
              "1407576                                  [356208.0]\n",
              "1407577                                  [427784.0]\n",
              "1407578                                  [188736.0]\n",
              "1407579                                    [2521.0]\n",
              "Length: 1308174, dtype: object"
            ]
          },
          "metadata": {
            "tags": []
          },
          "execution_count": 12
        }
      ]
    },
    {
      "cell_type": "code",
      "metadata": {
        "id": "Azv0m4nyAnQL",
        "colab_type": "code",
        "outputId": "3ff39bd4-279d-4d2c-cbbd-bcae843663fc",
        "colab": {
          "base_uri": "https://localhost:8080/",
          "height": 402
        }
      },
      "source": [
        "events"
      ],
      "execution_count": 13,
      "outputs": [
        {
          "output_type": "execute_result",
          "data": {
            "text/html": [
              "<div>\n",
              "<style scoped>\n",
              "    .dataframe tbody tr th:only-of-type {\n",
              "        vertical-align: middle;\n",
              "    }\n",
              "\n",
              "    .dataframe tbody tr th {\n",
              "        vertical-align: top;\n",
              "    }\n",
              "\n",
              "    .dataframe thead th {\n",
              "        text-align: right;\n",
              "    }\n",
              "</style>\n",
              "<table border=\"1\" class=\"dataframe\">\n",
              "  <thead>\n",
              "    <tr style=\"text-align: right;\">\n",
              "      <th></th>\n",
              "      <th>visitorid</th>\n",
              "      <th>event</th>\n",
              "      <th>itemid</th>\n",
              "      <th>purchase_count</th>\n",
              "    </tr>\n",
              "  </thead>\n",
              "  <tbody>\n",
              "    <tr>\n",
              "      <th>0</th>\n",
              "      <td>257597</td>\n",
              "      <td>view</td>\n",
              "      <td>355908.0</td>\n",
              "      <td></td>\n",
              "    </tr>\n",
              "    <tr>\n",
              "      <th>1</th>\n",
              "      <td>992329</td>\n",
              "      <td>view</td>\n",
              "      <td>248676.0</td>\n",
              "      <td></td>\n",
              "    </tr>\n",
              "    <tr>\n",
              "      <th>2</th>\n",
              "      <td>111016</td>\n",
              "      <td>view</td>\n",
              "      <td>318965.0</td>\n",
              "      <td></td>\n",
              "    </tr>\n",
              "    <tr>\n",
              "      <th>3</th>\n",
              "      <td>483717</td>\n",
              "      <td>view</td>\n",
              "      <td>253185.0</td>\n",
              "      <td></td>\n",
              "    </tr>\n",
              "    <tr>\n",
              "      <th>4</th>\n",
              "      <td>951259</td>\n",
              "      <td>view</td>\n",
              "      <td>367447.0</td>\n",
              "      <td></td>\n",
              "    </tr>\n",
              "    <tr>\n",
              "      <th>...</th>\n",
              "      <td>...</td>\n",
              "      <td>...</td>\n",
              "      <td>...</td>\n",
              "      <td>...</td>\n",
              "    </tr>\n",
              "    <tr>\n",
              "      <th>2545358</th>\n",
              "      <td>878862</td>\n",
              "      <td>view</td>\n",
              "      <td>6552.0</td>\n",
              "      <td></td>\n",
              "    </tr>\n",
              "    <tr>\n",
              "      <th>2545359</th>\n",
              "      <td>828962</td>\n",
              "      <td>view</td>\n",
              "      <td>49461.0</td>\n",
              "      <td></td>\n",
              "    </tr>\n",
              "    <tr>\n",
              "      <th>2545360</th>\n",
              "      <td>1067033</td>\n",
              "      <td>view</td>\n",
              "      <td>150212.0</td>\n",
              "      <td></td>\n",
              "    </tr>\n",
              "    <tr>\n",
              "      <th>2545361</th>\n",
              "      <td>1208743</td>\n",
              "      <td>view</td>\n",
              "      <td>379387.0</td>\n",
              "      <td></td>\n",
              "    </tr>\n",
              "    <tr>\n",
              "      <th>2545362</th>\n",
              "      <td>130833</td>\n",
              "      <td>view</td>\n",
              "      <td>NaN</td>\n",
              "      <td></td>\n",
              "    </tr>\n",
              "  </tbody>\n",
              "</table>\n",
              "<p>2545363 rows × 4 columns</p>\n",
              "</div>"
            ],
            "text/plain": [
              "         visitorid event    itemid purchase_count\n",
              "0           257597  view  355908.0               \n",
              "1           992329  view  248676.0               \n",
              "2           111016  view  318965.0               \n",
              "3           483717  view  253185.0               \n",
              "4           951259  view  367447.0               \n",
              "...            ...   ...       ...            ...\n",
              "2545358     878862  view    6552.0               \n",
              "2545359     828962  view   49461.0               \n",
              "2545360    1067033  view  150212.0               \n",
              "2545361    1208743  view  379387.0               \n",
              "2545362     130833  view       NaN               \n",
              "\n",
              "[2545363 rows x 4 columns]"
            ]
          },
          "metadata": {
            "tags": []
          },
          "execution_count": 13
        }
      ]
    },
    {
      "cell_type": "code",
      "metadata": {
        "id": "KMd-M5jKrCd0",
        "colab_type": "code",
        "outputId": "0651ff90-006f-436a-f3a0-f638842e68ed",
        "colab": {
          "base_uri": "https://localhost:8080/",
          "height": 77
        }
      },
      "source": [
        "#df4=pd.DataFrame({'visitorid':df2.index, 'products':df2.values})\n",
        "df4=df3\n",
        "df4=df4.to_frame()\n",
        "df4.columns=['productid']\n",
        "df4['customerid'] = df4.index\n",
        "df4=df4.reset_index(drop=True)\n",
        "df4=df4.rename(columns={ df4.columns[0]: \"products\" })\n",
        "df4=df4.rename(columns={ df4.columns[1]: \"customerId\" })\n",
        "df4.loc[df4['customerId'] == 1150086]\n",
        "#df5=df4.products.apply(lambda x: x.replace(',','|'))"
      ],
      "execution_count": 14,
      "outputs": [
        {
          "output_type": "execute_result",
          "data": {
            "text/html": [
              "<div>\n",
              "<style scoped>\n",
              "    .dataframe tbody tr th:only-of-type {\n",
              "        vertical-align: middle;\n",
              "    }\n",
              "\n",
              "    .dataframe tbody tr th {\n",
              "        vertical-align: top;\n",
              "    }\n",
              "\n",
              "    .dataframe thead th {\n",
              "        text-align: right;\n",
              "    }\n",
              "</style>\n",
              "<table border=\"1\" class=\"dataframe\">\n",
              "  <thead>\n",
              "    <tr style=\"text-align: right;\">\n",
              "      <th></th>\n",
              "      <th>products</th>\n",
              "      <th>customerId</th>\n",
              "    </tr>\n",
              "  </thead>\n",
              "  <tbody>\n",
              "    <tr>\n",
              "      <th>1068695</th>\n",
              "      <td>[49925.0, 332592.0, 408132.0, 109352.0, 107195...</td>\n",
              "      <td>1150086</td>\n",
              "    </tr>\n",
              "  </tbody>\n",
              "</table>\n",
              "</div>"
            ],
            "text/plain": [
              "                                                  products  customerId\n",
              "1068695  [49925.0, 332592.0, 408132.0, 109352.0, 107195...     1150086"
            ]
          },
          "metadata": {
            "tags": []
          },
          "execution_count": 14
        }
      ]
    },
    {
      "cell_type": "code",
      "metadata": {
        "id": "xrRSer3Ewe-m",
        "colab_type": "code",
        "outputId": "f3a8c638-ea77-462b-9645-340573cdef95",
        "colab": {
          "base_uri": "https://localhost:8080/",
          "height": 77
        }
      },
      "source": [
        "df4.loc[df4['customerId']==0]"
      ],
      "execution_count": 15,
      "outputs": [
        {
          "output_type": "execute_result",
          "data": {
            "text/html": [
              "<div>\n",
              "<style scoped>\n",
              "    .dataframe tbody tr th:only-of-type {\n",
              "        vertical-align: middle;\n",
              "    }\n",
              "\n",
              "    .dataframe tbody tr th {\n",
              "        vertical-align: top;\n",
              "    }\n",
              "\n",
              "    .dataframe thead th {\n",
              "        text-align: right;\n",
              "    }\n",
              "</style>\n",
              "<table border=\"1\" class=\"dataframe\">\n",
              "  <thead>\n",
              "    <tr style=\"text-align: right;\">\n",
              "      <th></th>\n",
              "      <th>products</th>\n",
              "      <th>customerId</th>\n",
              "    </tr>\n",
              "  </thead>\n",
              "  <tbody>\n",
              "    <tr>\n",
              "      <th>0</th>\n",
              "      <td>[285930.0, 357564.0, 67045.0]</td>\n",
              "      <td>0</td>\n",
              "    </tr>\n",
              "  </tbody>\n",
              "</table>\n",
              "</div>"
            ],
            "text/plain": [
              "                        products  customerId\n",
              "0  [285930.0, 357564.0, 67045.0]           0"
            ]
          },
          "metadata": {
            "tags": []
          },
          "execution_count": 15
        }
      ]
    },
    {
      "cell_type": "code",
      "metadata": {
        "id": "Vkfvc4iX1KI1",
        "colab_type": "code",
        "colab": {}
      },
      "source": [
        "new_data=pd.DataFrame()\n",
        "data_split=np.array_split(df4,50)\n",
        "for each in data_split:\n",
        "  data = pd.melt(each.set_index('customerId')['products'].apply(pd.Series).reset_index(), \n",
        "             id_vars=['customerId'],\n",
        "             value_name='products') \\\n",
        "    .dropna().drop(['variable'], axis=1) \\\n",
        "    .groupby(['customerId', 'products']) \\\n",
        "    .agg({'products': 'count'}) \\\n",
        "    .rename(columns={'products': 'purchase_count'}) \\\n",
        "    .reset_index() \\\n",
        "    .rename(columns={'products': 'productId'})\n",
        "  data['productId'] = data['productId'].astype(np.int64)\n",
        "  new_data = new_data.append(data, ignore_index=True)\n",
        "\n"
      ],
      "execution_count": 0,
      "outputs": []
    },
    {
      "cell_type": "code",
      "metadata": {
        "id": "6NfVf8Ko7E9Q",
        "colab_type": "code",
        "outputId": "9ecbbe36-cce5-44da-8465-67ba17924751",
        "colab": {
          "base_uri": "https://localhost:8080/",
          "height": 402
        }
      },
      "source": [
        "new_data\n",
        "#new_data.to_csv('input.csv')\n",
        "#new_data"
      ],
      "execution_count": 17,
      "outputs": [
        {
          "output_type": "execute_result",
          "data": {
            "text/html": [
              "<div>\n",
              "<style scoped>\n",
              "    .dataframe tbody tr th:only-of-type {\n",
              "        vertical-align: middle;\n",
              "    }\n",
              "\n",
              "    .dataframe tbody tr th {\n",
              "        vertical-align: top;\n",
              "    }\n",
              "\n",
              "    .dataframe thead th {\n",
              "        text-align: right;\n",
              "    }\n",
              "</style>\n",
              "<table border=\"1\" class=\"dataframe\">\n",
              "  <thead>\n",
              "    <tr style=\"text-align: right;\">\n",
              "      <th></th>\n",
              "      <th>customerId</th>\n",
              "      <th>productId</th>\n",
              "      <th>purchase_count</th>\n",
              "    </tr>\n",
              "  </thead>\n",
              "  <tbody>\n",
              "    <tr>\n",
              "      <th>0</th>\n",
              "      <td>0</td>\n",
              "      <td>67045</td>\n",
              "      <td>1</td>\n",
              "    </tr>\n",
              "    <tr>\n",
              "      <th>1</th>\n",
              "      <td>0</td>\n",
              "      <td>285930</td>\n",
              "      <td>1</td>\n",
              "    </tr>\n",
              "    <tr>\n",
              "      <th>2</th>\n",
              "      <td>0</td>\n",
              "      <td>357564</td>\n",
              "      <td>1</td>\n",
              "    </tr>\n",
              "    <tr>\n",
              "      <th>3</th>\n",
              "      <td>1</td>\n",
              "      <td>72028</td>\n",
              "      <td>1</td>\n",
              "    </tr>\n",
              "    <tr>\n",
              "      <th>4</th>\n",
              "      <td>2</td>\n",
              "      <td>216305</td>\n",
              "      <td>1</td>\n",
              "    </tr>\n",
              "    <tr>\n",
              "      <th>...</th>\n",
              "      <td>...</td>\n",
              "      <td>...</td>\n",
              "      <td>...</td>\n",
              "    </tr>\n",
              "    <tr>\n",
              "      <th>1982362</th>\n",
              "      <td>1407575</td>\n",
              "      <td>121220</td>\n",
              "      <td>1</td>\n",
              "    </tr>\n",
              "    <tr>\n",
              "      <th>1982363</th>\n",
              "      <td>1407576</td>\n",
              "      <td>356208</td>\n",
              "      <td>1</td>\n",
              "    </tr>\n",
              "    <tr>\n",
              "      <th>1982364</th>\n",
              "      <td>1407577</td>\n",
              "      <td>427784</td>\n",
              "      <td>1</td>\n",
              "    </tr>\n",
              "    <tr>\n",
              "      <th>1982365</th>\n",
              "      <td>1407578</td>\n",
              "      <td>188736</td>\n",
              "      <td>1</td>\n",
              "    </tr>\n",
              "    <tr>\n",
              "      <th>1982366</th>\n",
              "      <td>1407579</td>\n",
              "      <td>2521</td>\n",
              "      <td>1</td>\n",
              "    </tr>\n",
              "  </tbody>\n",
              "</table>\n",
              "<p>1982367 rows × 3 columns</p>\n",
              "</div>"
            ],
            "text/plain": [
              "         customerId  productId  purchase_count\n",
              "0                 0      67045               1\n",
              "1                 0     285930               1\n",
              "2                 0     357564               1\n",
              "3                 1      72028               1\n",
              "4                 2     216305               1\n",
              "...             ...        ...             ...\n",
              "1982362     1407575     121220               1\n",
              "1982363     1407576     356208               1\n",
              "1982364     1407577     427784               1\n",
              "1982365     1407578     188736               1\n",
              "1982366     1407579       2521               1\n",
              "\n",
              "[1982367 rows x 3 columns]"
            ]
          },
          "metadata": {
            "tags": []
          },
          "execution_count": 17
        }
      ]
    },
    {
      "cell_type": "code",
      "metadata": {
        "id": "FFatDF2hlbva",
        "colab_type": "code",
        "colab": {}
      },
      "source": [
        "#df5=events.groupby('visitorid').itemid.agg(['count', 'first'])\n",
        "def create_data_dummy(data):\n",
        "    data_dummy = data.copy()\n",
        "    data_dummy['purchase_dummy'] = 1\n",
        "    return data_dummy\n",
        "data_dummy = create_data_dummy(new_data)\n"
      ],
      "execution_count": 0,
      "outputs": []
    },
    {
      "cell_type": "code",
      "metadata": {
        "id": "f9phi5GCq_Ef",
        "colab_type": "code",
        "colab": {}
      },
      "source": [
        "def split_data(data):\n",
        "    '''\n",
        "    Splits dataset into training and test set.\n",
        "    Returns\n",
        "        train_data (tc.SFrame)\n",
        "        test_data (tc.SFrame)\n",
        "    '''\n",
        "    train, test = train_test_split(data, test_size = .2)\n",
        "    train_data = tc.SFrame(train)\n",
        "    test_data = tc.SFrame(test)\n",
        "    return train_data, test_data\n",
        "\n",
        "train_data_dummy, test_data_dummy = split_data(data_dummy)"
      ],
      "execution_count": 0,
      "outputs": []
    },
    {
      "cell_type": "code",
      "metadata": {
        "id": "Jw4cKGYnudof",
        "colab_type": "code",
        "colab": {}
      },
      "source": [
        "user_id = 'customerId'\n",
        "item_id = 'productId'\n",
        "users_to_recommend = list(events['visitorid'])\n",
        "n_rec = 10 # number of items to recommend\n",
        "n_display = 30 # to display the first few rows in an output dataset"
      ],
      "execution_count": 0,
      "outputs": []
    },
    {
      "cell_type": "code",
      "metadata": {
        "id": "6QZtPEXIA3ZN",
        "colab_type": "code",
        "colab": {}
      },
      "source": [
        "def model(train_data, name, user_id, item_id, target, users_to_recommend, n_rec, n_display):\n",
        "  model = tc.item_similarity_recommender.create(train_data, \n",
        "                                                    user_id=user_id, \n",
        "                                                    item_id=item_id, \n",
        "                                                    target=target, \n",
        "                                                    similarity_type='cosine')\n",
        "  return model"
      ],
      "execution_count": 0,
      "outputs": []
    },
    {
      "cell_type": "code",
      "metadata": {
        "id": "-fjln1sz5qZq",
        "colab_type": "code",
        "colab": {}
      },
      "source": [
        "def model2(train_data, name, user_id, item_id, target, users_to_recommend, n_rec, n_display):\n",
        "  model = tc.item_similarity_recommender.create(train_data, \n",
        "                                                    user_id=user_id, \n",
        "                                                    item_id=item_id, \n",
        "                                                    target=target, \n",
        "                                                    similarity_type='pearson')\n",
        "  return model"
      ],
      "execution_count": 0,
      "outputs": []
    },
    {
      "cell_type": "code",
      "metadata": {
        "id": "rIisJggdBkf8",
        "colab_type": "code",
        "outputId": "551f9100-3198-4b4a-c2af-6fb3c4d392d1",
        "colab": {
          "base_uri": "https://localhost:8080/",
          "height": 437
        }
      },
      "source": [
        "name = 'cosine'\n",
        "target = 'purchase_dummy'\n",
        "cos_dummy = model(train_data_dummy, name, user_id, item_id, target, users_to_recommend, n_rec, n_display)"
      ],
      "execution_count": 22,
      "outputs": [
        {
          "output_type": "display_data",
          "data": {
            "text/html": [
              "<pre>Warning: Ignoring columns purchase_count;</pre>"
            ],
            "text/plain": [
              "Warning: Ignoring columns purchase_count;"
            ]
          },
          "metadata": {
            "tags": []
          }
        },
        {
          "output_type": "display_data",
          "data": {
            "text/html": [
              "<pre>    To use these columns in scoring predictions, use a model that allows the use of additional features.</pre>"
            ],
            "text/plain": [
              "    To use these columns in scoring predictions, use a model that allows the use of additional features."
            ]
          },
          "metadata": {
            "tags": []
          }
        },
        {
          "output_type": "display_data",
          "data": {
            "text/html": [
              "<pre>Preparing data set.</pre>"
            ],
            "text/plain": [
              "Preparing data set."
            ]
          },
          "metadata": {
            "tags": []
          }
        },
        {
          "output_type": "display_data",
          "data": {
            "text/html": [
              "<pre>    Data has 1585893 observations with 1092600 users and 211651 items.</pre>"
            ],
            "text/plain": [
              "    Data has 1585893 observations with 1092600 users and 211651 items."
            ]
          },
          "metadata": {
            "tags": []
          }
        },
        {
          "output_type": "display_data",
          "data": {
            "text/html": [
              "<pre>    Data prepared in: 1.41923s</pre>"
            ],
            "text/plain": [
              "    Data prepared in: 1.41923s"
            ]
          },
          "metadata": {
            "tags": []
          }
        },
        {
          "output_type": "display_data",
          "data": {
            "text/html": [
              "<pre>Training model from provided data.</pre>"
            ],
            "text/plain": [
              "Training model from provided data."
            ]
          },
          "metadata": {
            "tags": []
          }
        },
        {
          "output_type": "display_data",
          "data": {
            "text/html": [
              "<pre>Gathering per-item and per-user statistics.</pre>"
            ],
            "text/plain": [
              "Gathering per-item and per-user statistics."
            ]
          },
          "metadata": {
            "tags": []
          }
        },
        {
          "output_type": "display_data",
          "data": {
            "text/html": [
              "<pre>+--------------------------------+------------+</pre>"
            ],
            "text/plain": [
              "+--------------------------------+------------+"
            ]
          },
          "metadata": {
            "tags": []
          }
        },
        {
          "output_type": "display_data",
          "data": {
            "text/html": [
              "<pre>| Elapsed Time (Item Statistics) | % Complete |</pre>"
            ],
            "text/plain": [
              "| Elapsed Time (Item Statistics) | % Complete |"
            ]
          },
          "metadata": {
            "tags": []
          }
        },
        {
          "output_type": "display_data",
          "data": {
            "text/html": [
              "<pre>+--------------------------------+------------+</pre>"
            ],
            "text/plain": [
              "+--------------------------------+------------+"
            ]
          },
          "metadata": {
            "tags": []
          }
        },
        {
          "output_type": "display_data",
          "data": {
            "text/html": [
              "<pre>| 2.741ms                        | 0          |</pre>"
            ],
            "text/plain": [
              "| 2.741ms                        | 0          |"
            ]
          },
          "metadata": {
            "tags": []
          }
        },
        {
          "output_type": "display_data",
          "data": {
            "text/html": [
              "<pre>| 131.48ms                       | 100        |</pre>"
            ],
            "text/plain": [
              "| 131.48ms                       | 100        |"
            ]
          },
          "metadata": {
            "tags": []
          }
        },
        {
          "output_type": "display_data",
          "data": {
            "text/html": [
              "<pre>+--------------------------------+------------+</pre>"
            ],
            "text/plain": [
              "+--------------------------------+------------+"
            ]
          },
          "metadata": {
            "tags": []
          }
        },
        {
          "output_type": "display_data",
          "data": {
            "text/html": [
              "<pre>Setting up lookup tables.</pre>"
            ],
            "text/plain": [
              "Setting up lookup tables."
            ]
          },
          "metadata": {
            "tags": []
          }
        },
        {
          "output_type": "display_data",
          "data": {
            "text/html": [
              "<pre>Processing data in one pass using sparse lookup tables.</pre>"
            ],
            "text/plain": [
              "Processing data in one pass using sparse lookup tables."
            ]
          },
          "metadata": {
            "tags": []
          }
        },
        {
          "output_type": "display_data",
          "data": {
            "text/html": [
              "<pre>+-------------------------------------+------------------+-----------------+</pre>"
            ],
            "text/plain": [
              "+-------------------------------------+------------------+-----------------+"
            ]
          },
          "metadata": {
            "tags": []
          }
        },
        {
          "output_type": "display_data",
          "data": {
            "text/html": [
              "<pre>| Elapsed Time (Constructing Lookups) | Total % Complete | Items Processed |</pre>"
            ],
            "text/plain": [
              "| Elapsed Time (Constructing Lookups) | Total % Complete | Items Processed |"
            ]
          },
          "metadata": {
            "tags": []
          }
        },
        {
          "output_type": "display_data",
          "data": {
            "text/html": [
              "<pre>+-------------------------------------+------------------+-----------------+</pre>"
            ],
            "text/plain": [
              "+-------------------------------------+------------------+-----------------+"
            ]
          },
          "metadata": {
            "tags": []
          }
        },
        {
          "output_type": "display_data",
          "data": {
            "text/html": [
              "<pre>| 1.28s                               | 0                | 0               |</pre>"
            ],
            "text/plain": [
              "| 1.28s                               | 0                | 0               |"
            ]
          },
          "metadata": {
            "tags": []
          }
        },
        {
          "output_type": "display_data",
          "data": {
            "text/html": [
              "<pre>| 4.40s                               | 75.75            | 160506          |</pre>"
            ],
            "text/plain": [
              "| 4.40s                               | 75.75            | 160506          |"
            ]
          },
          "metadata": {
            "tags": []
          }
        },
        {
          "output_type": "display_data",
          "data": {
            "text/html": [
              "<pre>| 7.08s                               | 100              | 211651          |</pre>"
            ],
            "text/plain": [
              "| 7.08s                               | 100              | 211651          |"
            ]
          },
          "metadata": {
            "tags": []
          }
        },
        {
          "output_type": "display_data",
          "data": {
            "text/html": [
              "<pre>+-------------------------------------+------------------+-----------------+</pre>"
            ],
            "text/plain": [
              "+-------------------------------------+------------------+-----------------+"
            ]
          },
          "metadata": {
            "tags": []
          }
        },
        {
          "output_type": "display_data",
          "data": {
            "text/html": [
              "<pre>Finalizing lookup tables.</pre>"
            ],
            "text/plain": [
              "Finalizing lookup tables."
            ]
          },
          "metadata": {
            "tags": []
          }
        },
        {
          "output_type": "display_data",
          "data": {
            "text/html": [
              "<pre>Generating candidate set for working with new users.</pre>"
            ],
            "text/plain": [
              "Generating candidate set for working with new users."
            ]
          },
          "metadata": {
            "tags": []
          }
        },
        {
          "output_type": "display_data",
          "data": {
            "text/html": [
              "<pre>Finished training in 8.23511s</pre>"
            ],
            "text/plain": [
              "Finished training in 8.23511s"
            ]
          },
          "metadata": {
            "tags": []
          }
        }
      ]
    },
    {
      "cell_type": "code",
      "metadata": {
        "id": "O0vfPfNl5RQQ",
        "colab_type": "code",
        "colab": {
          "base_uri": "https://localhost:8080/",
          "height": 437
        },
        "outputId": "98f8eb98-cf6f-48b8-9a91-993d19012099"
      },
      "source": [
        "name = 'pearson'\n",
        "target = 'purchase_dummy'\n",
        "pear_dummy = model2(train_data_dummy, name, user_id, item_id, target, users_to_recommend, n_rec, n_display)"
      ],
      "execution_count": 64,
      "outputs": [
        {
          "output_type": "display_data",
          "data": {
            "text/html": [
              "<pre>Warning: Ignoring columns purchase_count;</pre>"
            ],
            "text/plain": [
              "Warning: Ignoring columns purchase_count;"
            ]
          },
          "metadata": {
            "tags": []
          }
        },
        {
          "output_type": "display_data",
          "data": {
            "text/html": [
              "<pre>    To use these columns in scoring predictions, use a model that allows the use of additional features.</pre>"
            ],
            "text/plain": [
              "    To use these columns in scoring predictions, use a model that allows the use of additional features."
            ]
          },
          "metadata": {
            "tags": []
          }
        },
        {
          "output_type": "display_data",
          "data": {
            "text/html": [
              "<pre>Preparing data set.</pre>"
            ],
            "text/plain": [
              "Preparing data set."
            ]
          },
          "metadata": {
            "tags": []
          }
        },
        {
          "output_type": "display_data",
          "data": {
            "text/html": [
              "<pre>    Data has 1585893 observations with 1092740 users and 211508 items.</pre>"
            ],
            "text/plain": [
              "    Data has 1585893 observations with 1092740 users and 211508 items."
            ]
          },
          "metadata": {
            "tags": []
          }
        },
        {
          "output_type": "display_data",
          "data": {
            "text/html": [
              "<pre>    Data prepared in: 1.41836s</pre>"
            ],
            "text/plain": [
              "    Data prepared in: 1.41836s"
            ]
          },
          "metadata": {
            "tags": []
          }
        },
        {
          "output_type": "display_data",
          "data": {
            "text/html": [
              "<pre>Training model from provided data.</pre>"
            ],
            "text/plain": [
              "Training model from provided data."
            ]
          },
          "metadata": {
            "tags": []
          }
        },
        {
          "output_type": "display_data",
          "data": {
            "text/html": [
              "<pre>Gathering per-item and per-user statistics.</pre>"
            ],
            "text/plain": [
              "Gathering per-item and per-user statistics."
            ]
          },
          "metadata": {
            "tags": []
          }
        },
        {
          "output_type": "display_data",
          "data": {
            "text/html": [
              "<pre>+--------------------------------+------------+</pre>"
            ],
            "text/plain": [
              "+--------------------------------+------------+"
            ]
          },
          "metadata": {
            "tags": []
          }
        },
        {
          "output_type": "display_data",
          "data": {
            "text/html": [
              "<pre>| Elapsed Time (Item Statistics) | % Complete |</pre>"
            ],
            "text/plain": [
              "| Elapsed Time (Item Statistics) | % Complete |"
            ]
          },
          "metadata": {
            "tags": []
          }
        },
        {
          "output_type": "display_data",
          "data": {
            "text/html": [
              "<pre>+--------------------------------+------------+</pre>"
            ],
            "text/plain": [
              "+--------------------------------+------------+"
            ]
          },
          "metadata": {
            "tags": []
          }
        },
        {
          "output_type": "display_data",
          "data": {
            "text/html": [
              "<pre>| 2.7ms                          | 0          |</pre>"
            ],
            "text/plain": [
              "| 2.7ms                          | 0          |"
            ]
          },
          "metadata": {
            "tags": []
          }
        },
        {
          "output_type": "display_data",
          "data": {
            "text/html": [
              "<pre>| 137.929ms                      | 100        |</pre>"
            ],
            "text/plain": [
              "| 137.929ms                      | 100        |"
            ]
          },
          "metadata": {
            "tags": []
          }
        },
        {
          "output_type": "display_data",
          "data": {
            "text/html": [
              "<pre>+--------------------------------+------------+</pre>"
            ],
            "text/plain": [
              "+--------------------------------+------------+"
            ]
          },
          "metadata": {
            "tags": []
          }
        },
        {
          "output_type": "display_data",
          "data": {
            "text/html": [
              "<pre>Setting up lookup tables.</pre>"
            ],
            "text/plain": [
              "Setting up lookup tables."
            ]
          },
          "metadata": {
            "tags": []
          }
        },
        {
          "output_type": "display_data",
          "data": {
            "text/html": [
              "<pre>Processing data in one pass using sparse lookup tables.</pre>"
            ],
            "text/plain": [
              "Processing data in one pass using sparse lookup tables."
            ]
          },
          "metadata": {
            "tags": []
          }
        },
        {
          "output_type": "display_data",
          "data": {
            "text/html": [
              "<pre>+-------------------------------------+------------------+-----------------+</pre>"
            ],
            "text/plain": [
              "+-------------------------------------+------------------+-----------------+"
            ]
          },
          "metadata": {
            "tags": []
          }
        },
        {
          "output_type": "display_data",
          "data": {
            "text/html": [
              "<pre>| Elapsed Time (Constructing Lookups) | Total % Complete | Items Processed |</pre>"
            ],
            "text/plain": [
              "| Elapsed Time (Constructing Lookups) | Total % Complete | Items Processed |"
            ]
          },
          "metadata": {
            "tags": []
          }
        },
        {
          "output_type": "display_data",
          "data": {
            "text/html": [
              "<pre>+-------------------------------------+------------------+-----------------+</pre>"
            ],
            "text/plain": [
              "+-------------------------------------+------------------+-----------------+"
            ]
          },
          "metadata": {
            "tags": []
          }
        },
        {
          "output_type": "display_data",
          "data": {
            "text/html": [
              "<pre>| 1.27s                               | 0                | 0               |</pre>"
            ],
            "text/plain": [
              "| 1.27s                               | 0                | 0               |"
            ]
          },
          "metadata": {
            "tags": []
          }
        },
        {
          "output_type": "display_data",
          "data": {
            "text/html": [
              "<pre>| 4.29s                               | 73.5             | 155802          |</pre>"
            ],
            "text/plain": [
              "| 4.29s                               | 73.5             | 155802          |"
            ]
          },
          "metadata": {
            "tags": []
          }
        },
        {
          "output_type": "display_data",
          "data": {
            "text/html": [
              "<pre>| 6.63s                               | 100              | 211508          |</pre>"
            ],
            "text/plain": [
              "| 6.63s                               | 100              | 211508          |"
            ]
          },
          "metadata": {
            "tags": []
          }
        },
        {
          "output_type": "display_data",
          "data": {
            "text/html": [
              "<pre>+-------------------------------------+------------------+-----------------+</pre>"
            ],
            "text/plain": [
              "+-------------------------------------+------------------+-----------------+"
            ]
          },
          "metadata": {
            "tags": []
          }
        },
        {
          "output_type": "display_data",
          "data": {
            "text/html": [
              "<pre>Finalizing lookup tables.</pre>"
            ],
            "text/plain": [
              "Finalizing lookup tables."
            ]
          },
          "metadata": {
            "tags": []
          }
        },
        {
          "output_type": "display_data",
          "data": {
            "text/html": [
              "<pre>Generating candidate set for working with new users.</pre>"
            ],
            "text/plain": [
              "Generating candidate set for working with new users."
            ]
          },
          "metadata": {
            "tags": []
          }
        },
        {
          "output_type": "display_data",
          "data": {
            "text/html": [
              "<pre>Finished training in 6.73057s</pre>"
            ],
            "text/plain": [
              "Finished training in 6.73057s"
            ]
          },
          "metadata": {
            "tags": []
          }
        }
      ]
    },
    {
      "cell_type": "code",
      "metadata": {
        "id": "qkUqMV-4xPPm",
        "colab_type": "code",
        "outputId": "95028f31-6a57-400d-9590-6c17ea83e3cf",
        "colab": {
          "base_uri": "https://localhost:8080/",
          "height": 1000
        }
      },
      "source": [
        "'''\n",
        "models_w_dummy = [pear_dummy, cos_dummy]\n",
        "names_w_dummy = ['Popularity Model on Purchase Dummy', 'Cosine Similarity on Purchase Dummy']\n",
        "eval_dummy = tc.recommender.util.compare_models(test_data_dummy, models_w_dummy, model_names=names_w_dummy)\n",
        "'''\n",
        "eval=cos_dummy.evaluate(test_data_dummy)"
      ],
      "execution_count": 0,
      "outputs": [
        {
          "output_type": "display_data",
          "data": {
            "text/html": [
              "<pre>recommendations finished on 1000/330645 queries. users per second: 905.906</pre>"
            ],
            "text/plain": [
              "recommendations finished on 1000/330645 queries. users per second: 905.906"
            ]
          },
          "metadata": {
            "tags": []
          }
        },
        {
          "output_type": "display_data",
          "data": {
            "text/html": [
              "<pre>recommendations finished on 2000/330645 queries. users per second: 908.608</pre>"
            ],
            "text/plain": [
              "recommendations finished on 2000/330645 queries. users per second: 908.608"
            ]
          },
          "metadata": {
            "tags": []
          }
        },
        {
          "output_type": "display_data",
          "data": {
            "text/html": [
              "<pre>recommendations finished on 3000/330645 queries. users per second: 908.752</pre>"
            ],
            "text/plain": [
              "recommendations finished on 3000/330645 queries. users per second: 908.752"
            ]
          },
          "metadata": {
            "tags": []
          }
        },
        {
          "output_type": "display_data",
          "data": {
            "text/html": [
              "<pre>recommendations finished on 4000/330645 queries. users per second: 910.273</pre>"
            ],
            "text/plain": [
              "recommendations finished on 4000/330645 queries. users per second: 910.273"
            ]
          },
          "metadata": {
            "tags": []
          }
        },
        {
          "output_type": "display_data",
          "data": {
            "text/html": [
              "<pre>recommendations finished on 5000/330645 queries. users per second: 912.51</pre>"
            ],
            "text/plain": [
              "recommendations finished on 5000/330645 queries. users per second: 912.51"
            ]
          },
          "metadata": {
            "tags": []
          }
        },
        {
          "output_type": "display_data",
          "data": {
            "text/html": [
              "<pre>recommendations finished on 6000/330645 queries. users per second: 914.842</pre>"
            ],
            "text/plain": [
              "recommendations finished on 6000/330645 queries. users per second: 914.842"
            ]
          },
          "metadata": {
            "tags": []
          }
        },
        {
          "output_type": "display_data",
          "data": {
            "text/html": [
              "<pre>recommendations finished on 7000/330645 queries. users per second: 917.075</pre>"
            ],
            "text/plain": [
              "recommendations finished on 7000/330645 queries. users per second: 917.075"
            ]
          },
          "metadata": {
            "tags": []
          }
        },
        {
          "output_type": "display_data",
          "data": {
            "text/html": [
              "<pre>recommendations finished on 8000/330645 queries. users per second: 917.108</pre>"
            ],
            "text/plain": [
              "recommendations finished on 8000/330645 queries. users per second: 917.108"
            ]
          },
          "metadata": {
            "tags": []
          }
        },
        {
          "output_type": "display_data",
          "data": {
            "text/html": [
              "<pre>recommendations finished on 9000/330645 queries. users per second: 917.039</pre>"
            ],
            "text/plain": [
              "recommendations finished on 9000/330645 queries. users per second: 917.039"
            ]
          },
          "metadata": {
            "tags": []
          }
        },
        {
          "output_type": "display_data",
          "data": {
            "text/html": [
              "<pre>recommendations finished on 10000/330645 queries. users per second: 915.543</pre>"
            ],
            "text/plain": [
              "recommendations finished on 10000/330645 queries. users per second: 915.543"
            ]
          },
          "metadata": {
            "tags": []
          }
        },
        {
          "output_type": "display_data",
          "data": {
            "text/html": [
              "<pre>recommendations finished on 11000/330645 queries. users per second: 916.483</pre>"
            ],
            "text/plain": [
              "recommendations finished on 11000/330645 queries. users per second: 916.483"
            ]
          },
          "metadata": {
            "tags": []
          }
        },
        {
          "output_type": "display_data",
          "data": {
            "text/html": [
              "<pre>recommendations finished on 12000/330645 queries. users per second: 916.828</pre>"
            ],
            "text/plain": [
              "recommendations finished on 12000/330645 queries. users per second: 916.828"
            ]
          },
          "metadata": {
            "tags": []
          }
        },
        {
          "output_type": "display_data",
          "data": {
            "text/html": [
              "<pre>recommendations finished on 13000/330645 queries. users per second: 916.455</pre>"
            ],
            "text/plain": [
              "recommendations finished on 13000/330645 queries. users per second: 916.455"
            ]
          },
          "metadata": {
            "tags": []
          }
        },
        {
          "output_type": "display_data",
          "data": {
            "text/html": [
              "<pre>recommendations finished on 14000/330645 queries. users per second: 915.812</pre>"
            ],
            "text/plain": [
              "recommendations finished on 14000/330645 queries. users per second: 915.812"
            ]
          },
          "metadata": {
            "tags": []
          }
        },
        {
          "output_type": "display_data",
          "data": {
            "text/html": [
              "<pre>recommendations finished on 15000/330645 queries. users per second: 916.28</pre>"
            ],
            "text/plain": [
              "recommendations finished on 15000/330645 queries. users per second: 916.28"
            ]
          },
          "metadata": {
            "tags": []
          }
        },
        {
          "output_type": "display_data",
          "data": {
            "text/html": [
              "<pre>recommendations finished on 16000/330645 queries. users per second: 916.719</pre>"
            ],
            "text/plain": [
              "recommendations finished on 16000/330645 queries. users per second: 916.719"
            ]
          },
          "metadata": {
            "tags": []
          }
        },
        {
          "output_type": "display_data",
          "data": {
            "text/html": [
              "<pre>recommendations finished on 17000/330645 queries. users per second: 916.927</pre>"
            ],
            "text/plain": [
              "recommendations finished on 17000/330645 queries. users per second: 916.927"
            ]
          },
          "metadata": {
            "tags": []
          }
        },
        {
          "output_type": "display_data",
          "data": {
            "text/html": [
              "<pre>recommendations finished on 18000/330645 queries. users per second: 917.205</pre>"
            ],
            "text/plain": [
              "recommendations finished on 18000/330645 queries. users per second: 917.205"
            ]
          },
          "metadata": {
            "tags": []
          }
        },
        {
          "output_type": "display_data",
          "data": {
            "text/html": [
              "<pre>recommendations finished on 19000/330645 queries. users per second: 917.186</pre>"
            ],
            "text/plain": [
              "recommendations finished on 19000/330645 queries. users per second: 917.186"
            ]
          },
          "metadata": {
            "tags": []
          }
        },
        {
          "output_type": "display_data",
          "data": {
            "text/html": [
              "<pre>recommendations finished on 20000/330645 queries. users per second: 917.411</pre>"
            ],
            "text/plain": [
              "recommendations finished on 20000/330645 queries. users per second: 917.411"
            ]
          },
          "metadata": {
            "tags": []
          }
        },
        {
          "output_type": "display_data",
          "data": {
            "text/html": [
              "<pre>recommendations finished on 21000/330645 queries. users per second: 917.59</pre>"
            ],
            "text/plain": [
              "recommendations finished on 21000/330645 queries. users per second: 917.59"
            ]
          },
          "metadata": {
            "tags": []
          }
        },
        {
          "output_type": "display_data",
          "data": {
            "text/html": [
              "<pre>recommendations finished on 22000/330645 queries. users per second: 917.658</pre>"
            ],
            "text/plain": [
              "recommendations finished on 22000/330645 queries. users per second: 917.658"
            ]
          },
          "metadata": {
            "tags": []
          }
        },
        {
          "output_type": "display_data",
          "data": {
            "text/html": [
              "<pre>recommendations finished on 23000/330645 queries. users per second: 916.836</pre>"
            ],
            "text/plain": [
              "recommendations finished on 23000/330645 queries. users per second: 916.836"
            ]
          },
          "metadata": {
            "tags": []
          }
        },
        {
          "output_type": "display_data",
          "data": {
            "text/html": [
              "<pre>recommendations finished on 24000/330645 queries. users per second: 916.951</pre>"
            ],
            "text/plain": [
              "recommendations finished on 24000/330645 queries. users per second: 916.951"
            ]
          },
          "metadata": {
            "tags": []
          }
        },
        {
          "output_type": "display_data",
          "data": {
            "text/html": [
              "<pre>recommendations finished on 25000/330645 queries. users per second: 917.019</pre>"
            ],
            "text/plain": [
              "recommendations finished on 25000/330645 queries. users per second: 917.019"
            ]
          },
          "metadata": {
            "tags": []
          }
        },
        {
          "output_type": "display_data",
          "data": {
            "text/html": [
              "<pre>recommendations finished on 26000/330645 queries. users per second: 916.955</pre>"
            ],
            "text/plain": [
              "recommendations finished on 26000/330645 queries. users per second: 916.955"
            ]
          },
          "metadata": {
            "tags": []
          }
        },
        {
          "output_type": "display_data",
          "data": {
            "text/html": [
              "<pre>recommendations finished on 27000/330645 queries. users per second: 916.901</pre>"
            ],
            "text/plain": [
              "recommendations finished on 27000/330645 queries. users per second: 916.901"
            ]
          },
          "metadata": {
            "tags": []
          }
        },
        {
          "output_type": "display_data",
          "data": {
            "text/html": [
              "<pre>recommendations finished on 28000/330645 queries. users per second: 916.653</pre>"
            ],
            "text/plain": [
              "recommendations finished on 28000/330645 queries. users per second: 916.653"
            ]
          },
          "metadata": {
            "tags": []
          }
        },
        {
          "output_type": "display_data",
          "data": {
            "text/html": [
              "<pre>recommendations finished on 29000/330645 queries. users per second: 916.294</pre>"
            ],
            "text/plain": [
              "recommendations finished on 29000/330645 queries. users per second: 916.294"
            ]
          },
          "metadata": {
            "tags": []
          }
        },
        {
          "output_type": "display_data",
          "data": {
            "text/html": [
              "<pre>recommendations finished on 30000/330645 queries. users per second: 916.401</pre>"
            ],
            "text/plain": [
              "recommendations finished on 30000/330645 queries. users per second: 916.401"
            ]
          },
          "metadata": {
            "tags": []
          }
        },
        {
          "output_type": "display_data",
          "data": {
            "text/html": [
              "<pre>recommendations finished on 31000/330645 queries. users per second: 916.334</pre>"
            ],
            "text/plain": [
              "recommendations finished on 31000/330645 queries. users per second: 916.334"
            ]
          },
          "metadata": {
            "tags": []
          }
        },
        {
          "output_type": "display_data",
          "data": {
            "text/html": [
              "<pre>recommendations finished on 32000/330645 queries. users per second: 916.361</pre>"
            ],
            "text/plain": [
              "recommendations finished on 32000/330645 queries. users per second: 916.361"
            ]
          },
          "metadata": {
            "tags": []
          }
        },
        {
          "output_type": "display_data",
          "data": {
            "text/html": [
              "<pre>recommendations finished on 33000/330645 queries. users per second: 916.096</pre>"
            ],
            "text/plain": [
              "recommendations finished on 33000/330645 queries. users per second: 916.096"
            ]
          },
          "metadata": {
            "tags": []
          }
        },
        {
          "output_type": "display_data",
          "data": {
            "text/html": [
              "<pre>recommendations finished on 34000/330645 queries. users per second: 916.047</pre>"
            ],
            "text/plain": [
              "recommendations finished on 34000/330645 queries. users per second: 916.047"
            ]
          },
          "metadata": {
            "tags": []
          }
        },
        {
          "output_type": "display_data",
          "data": {
            "text/html": [
              "<pre>recommendations finished on 35000/330645 queries. users per second: 916.139</pre>"
            ],
            "text/plain": [
              "recommendations finished on 35000/330645 queries. users per second: 916.139"
            ]
          },
          "metadata": {
            "tags": []
          }
        },
        {
          "output_type": "display_data",
          "data": {
            "text/html": [
              "<pre>recommendations finished on 36000/330645 queries. users per second: 915.903</pre>"
            ],
            "text/plain": [
              "recommendations finished on 36000/330645 queries. users per second: 915.903"
            ]
          },
          "metadata": {
            "tags": []
          }
        },
        {
          "output_type": "display_data",
          "data": {
            "text/html": [
              "<pre>recommendations finished on 37000/330645 queries. users per second: 915.924</pre>"
            ],
            "text/plain": [
              "recommendations finished on 37000/330645 queries. users per second: 915.924"
            ]
          },
          "metadata": {
            "tags": []
          }
        },
        {
          "output_type": "display_data",
          "data": {
            "text/html": [
              "<pre>recommendations finished on 38000/330645 queries. users per second: 915.836</pre>"
            ],
            "text/plain": [
              "recommendations finished on 38000/330645 queries. users per second: 915.836"
            ]
          },
          "metadata": {
            "tags": []
          }
        },
        {
          "output_type": "display_data",
          "data": {
            "text/html": [
              "<pre>recommendations finished on 39000/330645 queries. users per second: 915.852</pre>"
            ],
            "text/plain": [
              "recommendations finished on 39000/330645 queries. users per second: 915.852"
            ]
          },
          "metadata": {
            "tags": []
          }
        },
        {
          "output_type": "display_data",
          "data": {
            "text/html": [
              "<pre>recommendations finished on 40000/330645 queries. users per second: 915.992</pre>"
            ],
            "text/plain": [
              "recommendations finished on 40000/330645 queries. users per second: 915.992"
            ]
          },
          "metadata": {
            "tags": []
          }
        },
        {
          "output_type": "display_data",
          "data": {
            "text/html": [
              "<pre>recommendations finished on 41000/330645 queries. users per second: 916.042</pre>"
            ],
            "text/plain": [
              "recommendations finished on 41000/330645 queries. users per second: 916.042"
            ]
          },
          "metadata": {
            "tags": []
          }
        },
        {
          "output_type": "display_data",
          "data": {
            "text/html": [
              "<pre>recommendations finished on 42000/330645 queries. users per second: 916.19</pre>"
            ],
            "text/plain": [
              "recommendations finished on 42000/330645 queries. users per second: 916.19"
            ]
          },
          "metadata": {
            "tags": []
          }
        },
        {
          "output_type": "display_data",
          "data": {
            "text/html": [
              "<pre>recommendations finished on 43000/330645 queries. users per second: 916.106</pre>"
            ],
            "text/plain": [
              "recommendations finished on 43000/330645 queries. users per second: 916.106"
            ]
          },
          "metadata": {
            "tags": []
          }
        },
        {
          "output_type": "display_data",
          "data": {
            "text/html": [
              "<pre>recommendations finished on 44000/330645 queries. users per second: 916.055</pre>"
            ],
            "text/plain": [
              "recommendations finished on 44000/330645 queries. users per second: 916.055"
            ]
          },
          "metadata": {
            "tags": []
          }
        },
        {
          "output_type": "display_data",
          "data": {
            "text/html": [
              "<pre>recommendations finished on 45000/330645 queries. users per second: 915.99</pre>"
            ],
            "text/plain": [
              "recommendations finished on 45000/330645 queries. users per second: 915.99"
            ]
          },
          "metadata": {
            "tags": []
          }
        },
        {
          "output_type": "display_data",
          "data": {
            "text/html": [
              "<pre>recommendations finished on 46000/330645 queries. users per second: 916.169</pre>"
            ],
            "text/plain": [
              "recommendations finished on 46000/330645 queries. users per second: 916.169"
            ]
          },
          "metadata": {
            "tags": []
          }
        },
        {
          "output_type": "display_data",
          "data": {
            "text/html": [
              "<pre>recommendations finished on 47000/330645 queries. users per second: 916.082</pre>"
            ],
            "text/plain": [
              "recommendations finished on 47000/330645 queries. users per second: 916.082"
            ]
          },
          "metadata": {
            "tags": []
          }
        },
        {
          "output_type": "display_data",
          "data": {
            "text/html": [
              "<pre>recommendations finished on 48000/330645 queries. users per second: 915.971</pre>"
            ],
            "text/plain": [
              "recommendations finished on 48000/330645 queries. users per second: 915.971"
            ]
          },
          "metadata": {
            "tags": []
          }
        },
        {
          "output_type": "display_data",
          "data": {
            "text/html": [
              "<pre>recommendations finished on 49000/330645 queries. users per second: 916.072</pre>"
            ],
            "text/plain": [
              "recommendations finished on 49000/330645 queries. users per second: 916.072"
            ]
          },
          "metadata": {
            "tags": []
          }
        },
        {
          "output_type": "display_data",
          "data": {
            "text/html": [
              "<pre>recommendations finished on 50000/330645 queries. users per second: 916.194</pre>"
            ],
            "text/plain": [
              "recommendations finished on 50000/330645 queries. users per second: 916.194"
            ]
          },
          "metadata": {
            "tags": []
          }
        },
        {
          "output_type": "display_data",
          "data": {
            "text/html": [
              "<pre>recommendations finished on 51000/330645 queries. users per second: 916.242</pre>"
            ],
            "text/plain": [
              "recommendations finished on 51000/330645 queries. users per second: 916.242"
            ]
          },
          "metadata": {
            "tags": []
          }
        },
        {
          "output_type": "display_data",
          "data": {
            "text/html": [
              "<pre>recommendations finished on 52000/330645 queries. users per second: 916.065</pre>"
            ],
            "text/plain": [
              "recommendations finished on 52000/330645 queries. users per second: 916.065"
            ]
          },
          "metadata": {
            "tags": []
          }
        },
        {
          "output_type": "display_data",
          "data": {
            "text/html": [
              "<pre>recommendations finished on 53000/330645 queries. users per second: 916.088</pre>"
            ],
            "text/plain": [
              "recommendations finished on 53000/330645 queries. users per second: 916.088"
            ]
          },
          "metadata": {
            "tags": []
          }
        },
        {
          "output_type": "display_data",
          "data": {
            "text/html": [
              "<pre>recommendations finished on 54000/330645 queries. users per second: 916.181</pre>"
            ],
            "text/plain": [
              "recommendations finished on 54000/330645 queries. users per second: 916.181"
            ]
          },
          "metadata": {
            "tags": []
          }
        },
        {
          "output_type": "display_data",
          "data": {
            "text/html": [
              "<pre>recommendations finished on 55000/330645 queries. users per second: 916.054</pre>"
            ],
            "text/plain": [
              "recommendations finished on 55000/330645 queries. users per second: 916.054"
            ]
          },
          "metadata": {
            "tags": []
          }
        },
        {
          "output_type": "display_data",
          "data": {
            "text/html": [
              "<pre>recommendations finished on 56000/330645 queries. users per second: 915.903</pre>"
            ],
            "text/plain": [
              "recommendations finished on 56000/330645 queries. users per second: 915.903"
            ]
          },
          "metadata": {
            "tags": []
          }
        },
        {
          "output_type": "display_data",
          "data": {
            "text/html": [
              "<pre>recommendations finished on 57000/330645 queries. users per second: 915.758</pre>"
            ],
            "text/plain": [
              "recommendations finished on 57000/330645 queries. users per second: 915.758"
            ]
          },
          "metadata": {
            "tags": []
          }
        },
        {
          "output_type": "display_data",
          "data": {
            "text/html": [
              "<pre>recommendations finished on 58000/330645 queries. users per second: 915.602</pre>"
            ],
            "text/plain": [
              "recommendations finished on 58000/330645 queries. users per second: 915.602"
            ]
          },
          "metadata": {
            "tags": []
          }
        },
        {
          "output_type": "display_data",
          "data": {
            "text/html": [
              "<pre>recommendations finished on 59000/330645 queries. users per second: 915.557</pre>"
            ],
            "text/plain": [
              "recommendations finished on 59000/330645 queries. users per second: 915.557"
            ]
          },
          "metadata": {
            "tags": []
          }
        },
        {
          "output_type": "display_data",
          "data": {
            "text/html": [
              "<pre>recommendations finished on 60000/330645 queries. users per second: 915.309</pre>"
            ],
            "text/plain": [
              "recommendations finished on 60000/330645 queries. users per second: 915.309"
            ]
          },
          "metadata": {
            "tags": []
          }
        },
        {
          "output_type": "display_data",
          "data": {
            "text/html": [
              "<pre>recommendations finished on 61000/330645 queries. users per second: 915.467</pre>"
            ],
            "text/plain": [
              "recommendations finished on 61000/330645 queries. users per second: 915.467"
            ]
          },
          "metadata": {
            "tags": []
          }
        },
        {
          "output_type": "display_data",
          "data": {
            "text/html": [
              "<pre>recommendations finished on 62000/330645 queries. users per second: 915.391</pre>"
            ],
            "text/plain": [
              "recommendations finished on 62000/330645 queries. users per second: 915.391"
            ]
          },
          "metadata": {
            "tags": []
          }
        },
        {
          "output_type": "display_data",
          "data": {
            "text/html": [
              "<pre>recommendations finished on 63000/330645 queries. users per second: 915.324</pre>"
            ],
            "text/plain": [
              "recommendations finished on 63000/330645 queries. users per second: 915.324"
            ]
          },
          "metadata": {
            "tags": []
          }
        },
        {
          "output_type": "display_data",
          "data": {
            "text/html": [
              "<pre>recommendations finished on 64000/330645 queries. users per second: 915.313</pre>"
            ],
            "text/plain": [
              "recommendations finished on 64000/330645 queries. users per second: 915.313"
            ]
          },
          "metadata": {
            "tags": []
          }
        },
        {
          "output_type": "display_data",
          "data": {
            "text/html": [
              "<pre>recommendations finished on 65000/330645 queries. users per second: 915.183</pre>"
            ],
            "text/plain": [
              "recommendations finished on 65000/330645 queries. users per second: 915.183"
            ]
          },
          "metadata": {
            "tags": []
          }
        },
        {
          "output_type": "display_data",
          "data": {
            "text/html": [
              "<pre>recommendations finished on 66000/330645 queries. users per second: 915.259</pre>"
            ],
            "text/plain": [
              "recommendations finished on 66000/330645 queries. users per second: 915.259"
            ]
          },
          "metadata": {
            "tags": []
          }
        },
        {
          "output_type": "display_data",
          "data": {
            "text/html": [
              "<pre>recommendations finished on 67000/330645 queries. users per second: 915.344</pre>"
            ],
            "text/plain": [
              "recommendations finished on 67000/330645 queries. users per second: 915.344"
            ]
          },
          "metadata": {
            "tags": []
          }
        },
        {
          "output_type": "display_data",
          "data": {
            "text/html": [
              "<pre>recommendations finished on 68000/330645 queries. users per second: 915.385</pre>"
            ],
            "text/plain": [
              "recommendations finished on 68000/330645 queries. users per second: 915.385"
            ]
          },
          "metadata": {
            "tags": []
          }
        },
        {
          "output_type": "display_data",
          "data": {
            "text/html": [
              "<pre>recommendations finished on 69000/330645 queries. users per second: 915.148</pre>"
            ],
            "text/plain": [
              "recommendations finished on 69000/330645 queries. users per second: 915.148"
            ]
          },
          "metadata": {
            "tags": []
          }
        },
        {
          "output_type": "display_data",
          "data": {
            "text/html": [
              "<pre>recommendations finished on 70000/330645 queries. users per second: 915.296</pre>"
            ],
            "text/plain": [
              "recommendations finished on 70000/330645 queries. users per second: 915.296"
            ]
          },
          "metadata": {
            "tags": []
          }
        },
        {
          "output_type": "display_data",
          "data": {
            "text/html": [
              "<pre>recommendations finished on 71000/330645 queries. users per second: 915.301</pre>"
            ],
            "text/plain": [
              "recommendations finished on 71000/330645 queries. users per second: 915.301"
            ]
          },
          "metadata": {
            "tags": []
          }
        },
        {
          "output_type": "display_data",
          "data": {
            "text/html": [
              "<pre>recommendations finished on 72000/330645 queries. users per second: 915.159</pre>"
            ],
            "text/plain": [
              "recommendations finished on 72000/330645 queries. users per second: 915.159"
            ]
          },
          "metadata": {
            "tags": []
          }
        },
        {
          "output_type": "display_data",
          "data": {
            "text/html": [
              "<pre>recommendations finished on 73000/330645 queries. users per second: 915.19</pre>"
            ],
            "text/plain": [
              "recommendations finished on 73000/330645 queries. users per second: 915.19"
            ]
          },
          "metadata": {
            "tags": []
          }
        },
        {
          "output_type": "display_data",
          "data": {
            "text/html": [
              "<pre>recommendations finished on 74000/330645 queries. users per second: 915.138</pre>"
            ],
            "text/plain": [
              "recommendations finished on 74000/330645 queries. users per second: 915.138"
            ]
          },
          "metadata": {
            "tags": []
          }
        },
        {
          "output_type": "display_data",
          "data": {
            "text/html": [
              "<pre>recommendations finished on 75000/330645 queries. users per second: 915.18</pre>"
            ],
            "text/plain": [
              "recommendations finished on 75000/330645 queries. users per second: 915.18"
            ]
          },
          "metadata": {
            "tags": []
          }
        },
        {
          "output_type": "display_data",
          "data": {
            "text/html": [
              "<pre>recommendations finished on 76000/330645 queries. users per second: 915.218</pre>"
            ],
            "text/plain": [
              "recommendations finished on 76000/330645 queries. users per second: 915.218"
            ]
          },
          "metadata": {
            "tags": []
          }
        },
        {
          "output_type": "display_data",
          "data": {
            "text/html": [
              "<pre>recommendations finished on 77000/330645 queries. users per second: 915.277</pre>"
            ],
            "text/plain": [
              "recommendations finished on 77000/330645 queries. users per second: 915.277"
            ]
          },
          "metadata": {
            "tags": []
          }
        },
        {
          "output_type": "display_data",
          "data": {
            "text/html": [
              "<pre>recommendations finished on 78000/330645 queries. users per second: 915.251</pre>"
            ],
            "text/plain": [
              "recommendations finished on 78000/330645 queries. users per second: 915.251"
            ]
          },
          "metadata": {
            "tags": []
          }
        },
        {
          "output_type": "display_data",
          "data": {
            "text/html": [
              "<pre>recommendations finished on 79000/330645 queries. users per second: 915.237</pre>"
            ],
            "text/plain": [
              "recommendations finished on 79000/330645 queries. users per second: 915.237"
            ]
          },
          "metadata": {
            "tags": []
          }
        },
        {
          "output_type": "display_data",
          "data": {
            "text/html": [
              "<pre>recommendations finished on 80000/330645 queries. users per second: 915.228</pre>"
            ],
            "text/plain": [
              "recommendations finished on 80000/330645 queries. users per second: 915.228"
            ]
          },
          "metadata": {
            "tags": []
          }
        },
        {
          "output_type": "display_data",
          "data": {
            "text/html": [
              "<pre>recommendations finished on 81000/330645 queries. users per second: 915.251</pre>"
            ],
            "text/plain": [
              "recommendations finished on 81000/330645 queries. users per second: 915.251"
            ]
          },
          "metadata": {
            "tags": []
          }
        },
        {
          "output_type": "display_data",
          "data": {
            "text/html": [
              "<pre>recommendations finished on 82000/330645 queries. users per second: 915.168</pre>"
            ],
            "text/plain": [
              "recommendations finished on 82000/330645 queries. users per second: 915.168"
            ]
          },
          "metadata": {
            "tags": []
          }
        },
        {
          "output_type": "display_data",
          "data": {
            "text/html": [
              "<pre>recommendations finished on 83000/330645 queries. users per second: 915.118</pre>"
            ],
            "text/plain": [
              "recommendations finished on 83000/330645 queries. users per second: 915.118"
            ]
          },
          "metadata": {
            "tags": []
          }
        },
        {
          "output_type": "display_data",
          "data": {
            "text/html": [
              "<pre>recommendations finished on 84000/330645 queries. users per second: 914.868</pre>"
            ],
            "text/plain": [
              "recommendations finished on 84000/330645 queries. users per second: 914.868"
            ]
          },
          "metadata": {
            "tags": []
          }
        },
        {
          "output_type": "display_data",
          "data": {
            "text/html": [
              "<pre>recommendations finished on 85000/330645 queries. users per second: 914.853</pre>"
            ],
            "text/plain": [
              "recommendations finished on 85000/330645 queries. users per second: 914.853"
            ]
          },
          "metadata": {
            "tags": []
          }
        },
        {
          "output_type": "display_data",
          "data": {
            "text/html": [
              "<pre>recommendations finished on 86000/330645 queries. users per second: 914.664</pre>"
            ],
            "text/plain": [
              "recommendations finished on 86000/330645 queries. users per second: 914.664"
            ]
          },
          "metadata": {
            "tags": []
          }
        },
        {
          "output_type": "display_data",
          "data": {
            "text/html": [
              "<pre>recommendations finished on 87000/330645 queries. users per second: 914.639</pre>"
            ],
            "text/plain": [
              "recommendations finished on 87000/330645 queries. users per second: 914.639"
            ]
          },
          "metadata": {
            "tags": []
          }
        },
        {
          "output_type": "display_data",
          "data": {
            "text/html": [
              "<pre>recommendations finished on 88000/330645 queries. users per second: 914.623</pre>"
            ],
            "text/plain": [
              "recommendations finished on 88000/330645 queries. users per second: 914.623"
            ]
          },
          "metadata": {
            "tags": []
          }
        },
        {
          "output_type": "display_data",
          "data": {
            "text/html": [
              "<pre>recommendations finished on 89000/330645 queries. users per second: 914.578</pre>"
            ],
            "text/plain": [
              "recommendations finished on 89000/330645 queries. users per second: 914.578"
            ]
          },
          "metadata": {
            "tags": []
          }
        },
        {
          "output_type": "display_data",
          "data": {
            "text/html": [
              "<pre>recommendations finished on 90000/330645 queries. users per second: 914.507</pre>"
            ],
            "text/plain": [
              "recommendations finished on 90000/330645 queries. users per second: 914.507"
            ]
          },
          "metadata": {
            "tags": []
          }
        },
        {
          "output_type": "display_data",
          "data": {
            "text/html": [
              "<pre>recommendations finished on 91000/330645 queries. users per second: 914.512</pre>"
            ],
            "text/plain": [
              "recommendations finished on 91000/330645 queries. users per second: 914.512"
            ]
          },
          "metadata": {
            "tags": []
          }
        },
        {
          "output_type": "display_data",
          "data": {
            "text/html": [
              "<pre>recommendations finished on 92000/330645 queries. users per second: 914.343</pre>"
            ],
            "text/plain": [
              "recommendations finished on 92000/330645 queries. users per second: 914.343"
            ]
          },
          "metadata": {
            "tags": []
          }
        },
        {
          "output_type": "display_data",
          "data": {
            "text/html": [
              "<pre>recommendations finished on 93000/330645 queries. users per second: 914.366</pre>"
            ],
            "text/plain": [
              "recommendations finished on 93000/330645 queries. users per second: 914.366"
            ]
          },
          "metadata": {
            "tags": []
          }
        },
        {
          "output_type": "display_data",
          "data": {
            "text/html": [
              "<pre>recommendations finished on 94000/330645 queries. users per second: 914.436</pre>"
            ],
            "text/plain": [
              "recommendations finished on 94000/330645 queries. users per second: 914.436"
            ]
          },
          "metadata": {
            "tags": []
          }
        },
        {
          "output_type": "display_data",
          "data": {
            "text/html": [
              "<pre>recommendations finished on 95000/330645 queries. users per second: 914.381</pre>"
            ],
            "text/plain": [
              "recommendations finished on 95000/330645 queries. users per second: 914.381"
            ]
          },
          "metadata": {
            "tags": []
          }
        },
        {
          "output_type": "display_data",
          "data": {
            "text/html": [
              "<pre>recommendations finished on 96000/330645 queries. users per second: 914.465</pre>"
            ],
            "text/plain": [
              "recommendations finished on 96000/330645 queries. users per second: 914.465"
            ]
          },
          "metadata": {
            "tags": []
          }
        },
        {
          "output_type": "display_data",
          "data": {
            "text/html": [
              "<pre>recommendations finished on 97000/330645 queries. users per second: 914.462</pre>"
            ],
            "text/plain": [
              "recommendations finished on 97000/330645 queries. users per second: 914.462"
            ]
          },
          "metadata": {
            "tags": []
          }
        },
        {
          "output_type": "display_data",
          "data": {
            "text/html": [
              "<pre>recommendations finished on 98000/330645 queries. users per second: 914.554</pre>"
            ],
            "text/plain": [
              "recommendations finished on 98000/330645 queries. users per second: 914.554"
            ]
          },
          "metadata": {
            "tags": []
          }
        },
        {
          "output_type": "display_data",
          "data": {
            "text/html": [
              "<pre>recommendations finished on 99000/330645 queries. users per second: 914.597</pre>"
            ],
            "text/plain": [
              "recommendations finished on 99000/330645 queries. users per second: 914.597"
            ]
          },
          "metadata": {
            "tags": []
          }
        },
        {
          "output_type": "display_data",
          "data": {
            "text/html": [
              "<pre>recommendations finished on 100000/330645 queries. users per second: 914.6</pre>"
            ],
            "text/plain": [
              "recommendations finished on 100000/330645 queries. users per second: 914.6"
            ]
          },
          "metadata": {
            "tags": []
          }
        },
        {
          "output_type": "display_data",
          "data": {
            "text/html": [
              "<pre>recommendations finished on 101000/330645 queries. users per second: 914.572</pre>"
            ],
            "text/plain": [
              "recommendations finished on 101000/330645 queries. users per second: 914.572"
            ]
          },
          "metadata": {
            "tags": []
          }
        },
        {
          "output_type": "display_data",
          "data": {
            "text/html": [
              "<pre>recommendations finished on 102000/330645 queries. users per second: 914.437</pre>"
            ],
            "text/plain": [
              "recommendations finished on 102000/330645 queries. users per second: 914.437"
            ]
          },
          "metadata": {
            "tags": []
          }
        },
        {
          "output_type": "display_data",
          "data": {
            "text/html": [
              "<pre>recommendations finished on 103000/330645 queries. users per second: 914.456</pre>"
            ],
            "text/plain": [
              "recommendations finished on 103000/330645 queries. users per second: 914.456"
            ]
          },
          "metadata": {
            "tags": []
          }
        },
        {
          "output_type": "display_data",
          "data": {
            "text/html": [
              "<pre>recommendations finished on 104000/330645 queries. users per second: 914.471</pre>"
            ],
            "text/plain": [
              "recommendations finished on 104000/330645 queries. users per second: 914.471"
            ]
          },
          "metadata": {
            "tags": []
          }
        },
        {
          "output_type": "display_data",
          "data": {
            "text/html": [
              "<pre>recommendations finished on 105000/330645 queries. users per second: 914.477</pre>"
            ],
            "text/plain": [
              "recommendations finished on 105000/330645 queries. users per second: 914.477"
            ]
          },
          "metadata": {
            "tags": []
          }
        },
        {
          "output_type": "display_data",
          "data": {
            "text/html": [
              "<pre>recommendations finished on 106000/330645 queries. users per second: 914.359</pre>"
            ],
            "text/plain": [
              "recommendations finished on 106000/330645 queries. users per second: 914.359"
            ]
          },
          "metadata": {
            "tags": []
          }
        },
        {
          "output_type": "display_data",
          "data": {
            "text/html": [
              "<pre>recommendations finished on 107000/330645 queries. users per second: 914.32</pre>"
            ],
            "text/plain": [
              "recommendations finished on 107000/330645 queries. users per second: 914.32"
            ]
          },
          "metadata": {
            "tags": []
          }
        },
        {
          "output_type": "display_data",
          "data": {
            "text/html": [
              "<pre>recommendations finished on 108000/330645 queries. users per second: 914.354</pre>"
            ],
            "text/plain": [
              "recommendations finished on 108000/330645 queries. users per second: 914.354"
            ]
          },
          "metadata": {
            "tags": []
          }
        },
        {
          "output_type": "display_data",
          "data": {
            "text/html": [
              "<pre>recommendations finished on 109000/330645 queries. users per second: 914.363</pre>"
            ],
            "text/plain": [
              "recommendations finished on 109000/330645 queries. users per second: 914.363"
            ]
          },
          "metadata": {
            "tags": []
          }
        },
        {
          "output_type": "display_data",
          "data": {
            "text/html": [
              "<pre>recommendations finished on 110000/330645 queries. users per second: 914.27</pre>"
            ],
            "text/plain": [
              "recommendations finished on 110000/330645 queries. users per second: 914.27"
            ]
          },
          "metadata": {
            "tags": []
          }
        },
        {
          "output_type": "display_data",
          "data": {
            "text/html": [
              "<pre>recommendations finished on 111000/330645 queries. users per second: 914.18</pre>"
            ],
            "text/plain": [
              "recommendations finished on 111000/330645 queries. users per second: 914.18"
            ]
          },
          "metadata": {
            "tags": []
          }
        },
        {
          "output_type": "display_data",
          "data": {
            "text/html": [
              "<pre>recommendations finished on 112000/330645 queries. users per second: 914.104</pre>"
            ],
            "text/plain": [
              "recommendations finished on 112000/330645 queries. users per second: 914.104"
            ]
          },
          "metadata": {
            "tags": []
          }
        },
        {
          "output_type": "display_data",
          "data": {
            "text/html": [
              "<pre>recommendations finished on 113000/330645 queries. users per second: 914.124</pre>"
            ],
            "text/plain": [
              "recommendations finished on 113000/330645 queries. users per second: 914.124"
            ]
          },
          "metadata": {
            "tags": []
          }
        },
        {
          "output_type": "display_data",
          "data": {
            "text/html": [
              "<pre>recommendations finished on 114000/330645 queries. users per second: 913.998</pre>"
            ],
            "text/plain": [
              "recommendations finished on 114000/330645 queries. users per second: 913.998"
            ]
          },
          "metadata": {
            "tags": []
          }
        },
        {
          "output_type": "display_data",
          "data": {
            "text/html": [
              "<pre>recommendations finished on 115000/330645 queries. users per second: 914.008</pre>"
            ],
            "text/plain": [
              "recommendations finished on 115000/330645 queries. users per second: 914.008"
            ]
          },
          "metadata": {
            "tags": []
          }
        },
        {
          "output_type": "display_data",
          "data": {
            "text/html": [
              "<pre>recommendations finished on 116000/330645 queries. users per second: 914</pre>"
            ],
            "text/plain": [
              "recommendations finished on 116000/330645 queries. users per second: 914"
            ]
          },
          "metadata": {
            "tags": []
          }
        },
        {
          "output_type": "display_data",
          "data": {
            "text/html": [
              "<pre>recommendations finished on 117000/330645 queries. users per second: 914.048</pre>"
            ],
            "text/plain": [
              "recommendations finished on 117000/330645 queries. users per second: 914.048"
            ]
          },
          "metadata": {
            "tags": []
          }
        },
        {
          "output_type": "display_data",
          "data": {
            "text/html": [
              "<pre>recommendations finished on 118000/330645 queries. users per second: 914.13</pre>"
            ],
            "text/plain": [
              "recommendations finished on 118000/330645 queries. users per second: 914.13"
            ]
          },
          "metadata": {
            "tags": []
          }
        },
        {
          "output_type": "display_data",
          "data": {
            "text/html": [
              "<pre>recommendations finished on 119000/330645 queries. users per second: 914.196</pre>"
            ],
            "text/plain": [
              "recommendations finished on 119000/330645 queries. users per second: 914.196"
            ]
          },
          "metadata": {
            "tags": []
          }
        },
        {
          "output_type": "display_data",
          "data": {
            "text/html": [
              "<pre>recommendations finished on 120000/330645 queries. users per second: 914.209</pre>"
            ],
            "text/plain": [
              "recommendations finished on 120000/330645 queries. users per second: 914.209"
            ]
          },
          "metadata": {
            "tags": []
          }
        },
        {
          "output_type": "display_data",
          "data": {
            "text/html": [
              "<pre>recommendations finished on 121000/330645 queries. users per second: 914.136</pre>"
            ],
            "text/plain": [
              "recommendations finished on 121000/330645 queries. users per second: 914.136"
            ]
          },
          "metadata": {
            "tags": []
          }
        },
        {
          "output_type": "display_data",
          "data": {
            "text/html": [
              "<pre>recommendations finished on 122000/330645 queries. users per second: 914.181</pre>"
            ],
            "text/plain": [
              "recommendations finished on 122000/330645 queries. users per second: 914.181"
            ]
          },
          "metadata": {
            "tags": []
          }
        },
        {
          "output_type": "display_data",
          "data": {
            "text/html": [
              "<pre>recommendations finished on 123000/330645 queries. users per second: 914.135</pre>"
            ],
            "text/plain": [
              "recommendations finished on 123000/330645 queries. users per second: 914.135"
            ]
          },
          "metadata": {
            "tags": []
          }
        },
        {
          "output_type": "display_data",
          "data": {
            "text/html": [
              "<pre>recommendations finished on 124000/330645 queries. users per second: 914.128</pre>"
            ],
            "text/plain": [
              "recommendations finished on 124000/330645 queries. users per second: 914.128"
            ]
          },
          "metadata": {
            "tags": []
          }
        },
        {
          "output_type": "display_data",
          "data": {
            "text/html": [
              "<pre>recommendations finished on 125000/330645 queries. users per second: 914.142</pre>"
            ],
            "text/plain": [
              "recommendations finished on 125000/330645 queries. users per second: 914.142"
            ]
          },
          "metadata": {
            "tags": []
          }
        },
        {
          "output_type": "display_data",
          "data": {
            "text/html": [
              "<pre>recommendations finished on 126000/330645 queries. users per second: 914.137</pre>"
            ],
            "text/plain": [
              "recommendations finished on 126000/330645 queries. users per second: 914.137"
            ]
          },
          "metadata": {
            "tags": []
          }
        },
        {
          "output_type": "display_data",
          "data": {
            "text/html": [
              "<pre>recommendations finished on 127000/330645 queries. users per second: 914.146</pre>"
            ],
            "text/plain": [
              "recommendations finished on 127000/330645 queries. users per second: 914.146"
            ]
          },
          "metadata": {
            "tags": []
          }
        },
        {
          "output_type": "display_data",
          "data": {
            "text/html": [
              "<pre>recommendations finished on 128000/330645 queries. users per second: 914.18</pre>"
            ],
            "text/plain": [
              "recommendations finished on 128000/330645 queries. users per second: 914.18"
            ]
          },
          "metadata": {
            "tags": []
          }
        },
        {
          "output_type": "display_data",
          "data": {
            "text/html": [
              "<pre>recommendations finished on 129000/330645 queries. users per second: 914.131</pre>"
            ],
            "text/plain": [
              "recommendations finished on 129000/330645 queries. users per second: 914.131"
            ]
          },
          "metadata": {
            "tags": []
          }
        },
        {
          "output_type": "display_data",
          "data": {
            "text/html": [
              "<pre>recommendations finished on 130000/330645 queries. users per second: 914.124</pre>"
            ],
            "text/plain": [
              "recommendations finished on 130000/330645 queries. users per second: 914.124"
            ]
          },
          "metadata": {
            "tags": []
          }
        },
        {
          "output_type": "display_data",
          "data": {
            "text/html": [
              "<pre>recommendations finished on 131000/330645 queries. users per second: 914.019</pre>"
            ],
            "text/plain": [
              "recommendations finished on 131000/330645 queries. users per second: 914.019"
            ]
          },
          "metadata": {
            "tags": []
          }
        },
        {
          "output_type": "display_data",
          "data": {
            "text/html": [
              "<pre>recommendations finished on 132000/330645 queries. users per second: 914.028</pre>"
            ],
            "text/plain": [
              "recommendations finished on 132000/330645 queries. users per second: 914.028"
            ]
          },
          "metadata": {
            "tags": []
          }
        },
        {
          "output_type": "display_data",
          "data": {
            "text/html": [
              "<pre>recommendations finished on 133000/330645 queries. users per second: 914.049</pre>"
            ],
            "text/plain": [
              "recommendations finished on 133000/330645 queries. users per second: 914.049"
            ]
          },
          "metadata": {
            "tags": []
          }
        },
        {
          "output_type": "display_data",
          "data": {
            "text/html": [
              "<pre>recommendations finished on 134000/330645 queries. users per second: 914.077</pre>"
            ],
            "text/plain": [
              "recommendations finished on 134000/330645 queries. users per second: 914.077"
            ]
          },
          "metadata": {
            "tags": []
          }
        },
        {
          "output_type": "display_data",
          "data": {
            "text/html": [
              "<pre>recommendations finished on 135000/330645 queries. users per second: 914.09</pre>"
            ],
            "text/plain": [
              "recommendations finished on 135000/330645 queries. users per second: 914.09"
            ]
          },
          "metadata": {
            "tags": []
          }
        },
        {
          "output_type": "display_data",
          "data": {
            "text/html": [
              "<pre>recommendations finished on 136000/330645 queries. users per second: 914.16</pre>"
            ],
            "text/plain": [
              "recommendations finished on 136000/330645 queries. users per second: 914.16"
            ]
          },
          "metadata": {
            "tags": []
          }
        },
        {
          "output_type": "display_data",
          "data": {
            "text/html": [
              "<pre>recommendations finished on 137000/330645 queries. users per second: 914.123</pre>"
            ],
            "text/plain": [
              "recommendations finished on 137000/330645 queries. users per second: 914.123"
            ]
          },
          "metadata": {
            "tags": []
          }
        },
        {
          "output_type": "display_data",
          "data": {
            "text/html": [
              "<pre>recommendations finished on 138000/330645 queries. users per second: 914.139</pre>"
            ],
            "text/plain": [
              "recommendations finished on 138000/330645 queries. users per second: 914.139"
            ]
          },
          "metadata": {
            "tags": []
          }
        },
        {
          "output_type": "display_data",
          "data": {
            "text/html": [
              "<pre>recommendations finished on 139000/330645 queries. users per second: 914.082</pre>"
            ],
            "text/plain": [
              "recommendations finished on 139000/330645 queries. users per second: 914.082"
            ]
          },
          "metadata": {
            "tags": []
          }
        },
        {
          "output_type": "display_data",
          "data": {
            "text/html": [
              "<pre>recommendations finished on 140000/330645 queries. users per second: 914.061</pre>"
            ],
            "text/plain": [
              "recommendations finished on 140000/330645 queries. users per second: 914.061"
            ]
          },
          "metadata": {
            "tags": []
          }
        },
        {
          "output_type": "display_data",
          "data": {
            "text/html": [
              "<pre>recommendations finished on 141000/330645 queries. users per second: 914.097</pre>"
            ],
            "text/plain": [
              "recommendations finished on 141000/330645 queries. users per second: 914.097"
            ]
          },
          "metadata": {
            "tags": []
          }
        },
        {
          "output_type": "display_data",
          "data": {
            "text/html": [
              "<pre>recommendations finished on 142000/330645 queries. users per second: 914.109</pre>"
            ],
            "text/plain": [
              "recommendations finished on 142000/330645 queries. users per second: 914.109"
            ]
          },
          "metadata": {
            "tags": []
          }
        },
        {
          "output_type": "display_data",
          "data": {
            "text/html": [
              "<pre>recommendations finished on 143000/330645 queries. users per second: 914.06</pre>"
            ],
            "text/plain": [
              "recommendations finished on 143000/330645 queries. users per second: 914.06"
            ]
          },
          "metadata": {
            "tags": []
          }
        },
        {
          "output_type": "display_data",
          "data": {
            "text/html": [
              "<pre>recommendations finished on 144000/330645 queries. users per second: 914.039</pre>"
            ],
            "text/plain": [
              "recommendations finished on 144000/330645 queries. users per second: 914.039"
            ]
          },
          "metadata": {
            "tags": []
          }
        },
        {
          "output_type": "display_data",
          "data": {
            "text/html": [
              "<pre>recommendations finished on 145000/330645 queries. users per second: 914.108</pre>"
            ],
            "text/plain": [
              "recommendations finished on 145000/330645 queries. users per second: 914.108"
            ]
          },
          "metadata": {
            "tags": []
          }
        },
        {
          "output_type": "display_data",
          "data": {
            "text/html": [
              "<pre>recommendations finished on 146000/330645 queries. users per second: 914.14</pre>"
            ],
            "text/plain": [
              "recommendations finished on 146000/330645 queries. users per second: 914.14"
            ]
          },
          "metadata": {
            "tags": []
          }
        },
        {
          "output_type": "display_data",
          "data": {
            "text/html": [
              "<pre>recommendations finished on 147000/330645 queries. users per second: 914.22</pre>"
            ],
            "text/plain": [
              "recommendations finished on 147000/330645 queries. users per second: 914.22"
            ]
          },
          "metadata": {
            "tags": []
          }
        },
        {
          "output_type": "display_data",
          "data": {
            "text/html": [
              "<pre>recommendations finished on 148000/330645 queries. users per second: 914.244</pre>"
            ],
            "text/plain": [
              "recommendations finished on 148000/330645 queries. users per second: 914.244"
            ]
          },
          "metadata": {
            "tags": []
          }
        },
        {
          "output_type": "display_data",
          "data": {
            "text/html": [
              "<pre>recommendations finished on 149000/330645 queries. users per second: 914.227</pre>"
            ],
            "text/plain": [
              "recommendations finished on 149000/330645 queries. users per second: 914.227"
            ]
          },
          "metadata": {
            "tags": []
          }
        },
        {
          "output_type": "display_data",
          "data": {
            "text/html": [
              "<pre>recommendations finished on 150000/330645 queries. users per second: 914.123</pre>"
            ],
            "text/plain": [
              "recommendations finished on 150000/330645 queries. users per second: 914.123"
            ]
          },
          "metadata": {
            "tags": []
          }
        },
        {
          "output_type": "display_data",
          "data": {
            "text/html": [
              "<pre>recommendations finished on 151000/330645 queries. users per second: 914.09</pre>"
            ],
            "text/plain": [
              "recommendations finished on 151000/330645 queries. users per second: 914.09"
            ]
          },
          "metadata": {
            "tags": []
          }
        },
        {
          "output_type": "display_data",
          "data": {
            "text/html": [
              "<pre>recommendations finished on 152000/330645 queries. users per second: 914.085</pre>"
            ],
            "text/plain": [
              "recommendations finished on 152000/330645 queries. users per second: 914.085"
            ]
          },
          "metadata": {
            "tags": []
          }
        },
        {
          "output_type": "display_data",
          "data": {
            "text/html": [
              "<pre>recommendations finished on 153000/330645 queries. users per second: 914.021</pre>"
            ],
            "text/plain": [
              "recommendations finished on 153000/330645 queries. users per second: 914.021"
            ]
          },
          "metadata": {
            "tags": []
          }
        },
        {
          "output_type": "display_data",
          "data": {
            "text/html": [
              "<pre>recommendations finished on 154000/330645 queries. users per second: 913.967</pre>"
            ],
            "text/plain": [
              "recommendations finished on 154000/330645 queries. users per second: 913.967"
            ]
          },
          "metadata": {
            "tags": []
          }
        },
        {
          "output_type": "display_data",
          "data": {
            "text/html": [
              "<pre>recommendations finished on 155000/330645 queries. users per second: 913.926</pre>"
            ],
            "text/plain": [
              "recommendations finished on 155000/330645 queries. users per second: 913.926"
            ]
          },
          "metadata": {
            "tags": []
          }
        },
        {
          "output_type": "display_data",
          "data": {
            "text/html": [
              "<pre>recommendations finished on 156000/330645 queries. users per second: 913.891</pre>"
            ],
            "text/plain": [
              "recommendations finished on 156000/330645 queries. users per second: 913.891"
            ]
          },
          "metadata": {
            "tags": []
          }
        },
        {
          "output_type": "display_data",
          "data": {
            "text/html": [
              "<pre>recommendations finished on 157000/330645 queries. users per second: 913.825</pre>"
            ],
            "text/plain": [
              "recommendations finished on 157000/330645 queries. users per second: 913.825"
            ]
          },
          "metadata": {
            "tags": []
          }
        },
        {
          "output_type": "display_data",
          "data": {
            "text/html": [
              "<pre>recommendations finished on 158000/330645 queries. users per second: 913.852</pre>"
            ],
            "text/plain": [
              "recommendations finished on 158000/330645 queries. users per second: 913.852"
            ]
          },
          "metadata": {
            "tags": []
          }
        },
        {
          "output_type": "display_data",
          "data": {
            "text/html": [
              "<pre>recommendations finished on 159000/330645 queries. users per second: 913.869</pre>"
            ],
            "text/plain": [
              "recommendations finished on 159000/330645 queries. users per second: 913.869"
            ]
          },
          "metadata": {
            "tags": []
          }
        },
        {
          "output_type": "display_data",
          "data": {
            "text/html": [
              "<pre>recommendations finished on 160000/330645 queries. users per second: 913.753</pre>"
            ],
            "text/plain": [
              "recommendations finished on 160000/330645 queries. users per second: 913.753"
            ]
          },
          "metadata": {
            "tags": []
          }
        },
        {
          "output_type": "display_data",
          "data": {
            "text/html": [
              "<pre>recommendations finished on 161000/330645 queries. users per second: 913.688</pre>"
            ],
            "text/plain": [
              "recommendations finished on 161000/330645 queries. users per second: 913.688"
            ]
          },
          "metadata": {
            "tags": []
          }
        },
        {
          "output_type": "display_data",
          "data": {
            "text/html": [
              "<pre>recommendations finished on 162000/330645 queries. users per second: 913.663</pre>"
            ],
            "text/plain": [
              "recommendations finished on 162000/330645 queries. users per second: 913.663"
            ]
          },
          "metadata": {
            "tags": []
          }
        },
        {
          "output_type": "display_data",
          "data": {
            "text/html": [
              "<pre>recommendations finished on 163000/330645 queries. users per second: 913.691</pre>"
            ],
            "text/plain": [
              "recommendations finished on 163000/330645 queries. users per second: 913.691"
            ]
          },
          "metadata": {
            "tags": []
          }
        },
        {
          "output_type": "display_data",
          "data": {
            "text/html": [
              "<pre>recommendations finished on 164000/330645 queries. users per second: 913.693</pre>"
            ],
            "text/plain": [
              "recommendations finished on 164000/330645 queries. users per second: 913.693"
            ]
          },
          "metadata": {
            "tags": []
          }
        },
        {
          "output_type": "display_data",
          "data": {
            "text/html": [
              "<pre>recommendations finished on 165000/330645 queries. users per second: 913.62</pre>"
            ],
            "text/plain": [
              "recommendations finished on 165000/330645 queries. users per second: 913.62"
            ]
          },
          "metadata": {
            "tags": []
          }
        },
        {
          "output_type": "display_data",
          "data": {
            "text/html": [
              "<pre>recommendations finished on 166000/330645 queries. users per second: 913.53</pre>"
            ],
            "text/plain": [
              "recommendations finished on 166000/330645 queries. users per second: 913.53"
            ]
          },
          "metadata": {
            "tags": []
          }
        },
        {
          "output_type": "display_data",
          "data": {
            "text/html": [
              "<pre>recommendations finished on 167000/330645 queries. users per second: 913.499</pre>"
            ],
            "text/plain": [
              "recommendations finished on 167000/330645 queries. users per second: 913.499"
            ]
          },
          "metadata": {
            "tags": []
          }
        },
        {
          "output_type": "display_data",
          "data": {
            "text/html": [
              "<pre>recommendations finished on 168000/330645 queries. users per second: 913.52</pre>"
            ],
            "text/plain": [
              "recommendations finished on 168000/330645 queries. users per second: 913.52"
            ]
          },
          "metadata": {
            "tags": []
          }
        },
        {
          "output_type": "display_data",
          "data": {
            "text/html": [
              "<pre>recommendations finished on 169000/330645 queries. users per second: 913.461</pre>"
            ],
            "text/plain": [
              "recommendations finished on 169000/330645 queries. users per second: 913.461"
            ]
          },
          "metadata": {
            "tags": []
          }
        },
        {
          "output_type": "display_data",
          "data": {
            "text/html": [
              "<pre>recommendations finished on 170000/330645 queries. users per second: 913.416</pre>"
            ],
            "text/plain": [
              "recommendations finished on 170000/330645 queries. users per second: 913.416"
            ]
          },
          "metadata": {
            "tags": []
          }
        },
        {
          "output_type": "display_data",
          "data": {
            "text/html": [
              "<pre>recommendations finished on 171000/330645 queries. users per second: 913.444</pre>"
            ],
            "text/plain": [
              "recommendations finished on 171000/330645 queries. users per second: 913.444"
            ]
          },
          "metadata": {
            "tags": []
          }
        },
        {
          "output_type": "display_data",
          "data": {
            "text/html": [
              "<pre>recommendations finished on 172000/330645 queries. users per second: 913.388</pre>"
            ],
            "text/plain": [
              "recommendations finished on 172000/330645 queries. users per second: 913.388"
            ]
          },
          "metadata": {
            "tags": []
          }
        },
        {
          "output_type": "display_data",
          "data": {
            "text/html": [
              "<pre>recommendations finished on 173000/330645 queries. users per second: 913.388</pre>"
            ],
            "text/plain": [
              "recommendations finished on 173000/330645 queries. users per second: 913.388"
            ]
          },
          "metadata": {
            "tags": []
          }
        },
        {
          "output_type": "display_data",
          "data": {
            "text/html": [
              "<pre>recommendations finished on 174000/330645 queries. users per second: 913.365</pre>"
            ],
            "text/plain": [
              "recommendations finished on 174000/330645 queries. users per second: 913.365"
            ]
          },
          "metadata": {
            "tags": []
          }
        },
        {
          "output_type": "display_data",
          "data": {
            "text/html": [
              "<pre>recommendations finished on 175000/330645 queries. users per second: 913.368</pre>"
            ],
            "text/plain": [
              "recommendations finished on 175000/330645 queries. users per second: 913.368"
            ]
          },
          "metadata": {
            "tags": []
          }
        },
        {
          "output_type": "display_data",
          "data": {
            "text/html": [
              "<pre>recommendations finished on 176000/330645 queries. users per second: 913.317</pre>"
            ],
            "text/plain": [
              "recommendations finished on 176000/330645 queries. users per second: 913.317"
            ]
          },
          "metadata": {
            "tags": []
          }
        },
        {
          "output_type": "display_data",
          "data": {
            "text/html": [
              "<pre>recommendations finished on 177000/330645 queries. users per second: 913.365</pre>"
            ],
            "text/plain": [
              "recommendations finished on 177000/330645 queries. users per second: 913.365"
            ]
          },
          "metadata": {
            "tags": []
          }
        },
        {
          "output_type": "display_data",
          "data": {
            "text/html": [
              "<pre>recommendations finished on 178000/330645 queries. users per second: 913.298</pre>"
            ],
            "text/plain": [
              "recommendations finished on 178000/330645 queries. users per second: 913.298"
            ]
          },
          "metadata": {
            "tags": []
          }
        },
        {
          "output_type": "display_data",
          "data": {
            "text/html": [
              "<pre>recommendations finished on 179000/330645 queries. users per second: 913.26</pre>"
            ],
            "text/plain": [
              "recommendations finished on 179000/330645 queries. users per second: 913.26"
            ]
          },
          "metadata": {
            "tags": []
          }
        },
        {
          "output_type": "display_data",
          "data": {
            "text/html": [
              "<pre>recommendations finished on 180000/330645 queries. users per second: 913.273</pre>"
            ],
            "text/plain": [
              "recommendations finished on 180000/330645 queries. users per second: 913.273"
            ]
          },
          "metadata": {
            "tags": []
          }
        },
        {
          "output_type": "display_data",
          "data": {
            "text/html": [
              "<pre>recommendations finished on 181000/330645 queries. users per second: 913.298</pre>"
            ],
            "text/plain": [
              "recommendations finished on 181000/330645 queries. users per second: 913.298"
            ]
          },
          "metadata": {
            "tags": []
          }
        },
        {
          "output_type": "display_data",
          "data": {
            "text/html": [
              "<pre>recommendations finished on 182000/330645 queries. users per second: 913.303</pre>"
            ],
            "text/plain": [
              "recommendations finished on 182000/330645 queries. users per second: 913.303"
            ]
          },
          "metadata": {
            "tags": []
          }
        },
        {
          "output_type": "display_data",
          "data": {
            "text/html": [
              "<pre>recommendations finished on 183000/330645 queries. users per second: 913.273</pre>"
            ],
            "text/plain": [
              "recommendations finished on 183000/330645 queries. users per second: 913.273"
            ]
          },
          "metadata": {
            "tags": []
          }
        },
        {
          "output_type": "display_data",
          "data": {
            "text/html": [
              "<pre>recommendations finished on 184000/330645 queries. users per second: 913.231</pre>"
            ],
            "text/plain": [
              "recommendations finished on 184000/330645 queries. users per second: 913.231"
            ]
          },
          "metadata": {
            "tags": []
          }
        },
        {
          "output_type": "display_data",
          "data": {
            "text/html": [
              "<pre>recommendations finished on 185000/330645 queries. users per second: 913.188</pre>"
            ],
            "text/plain": [
              "recommendations finished on 185000/330645 queries. users per second: 913.188"
            ]
          },
          "metadata": {
            "tags": []
          }
        },
        {
          "output_type": "display_data",
          "data": {
            "text/html": [
              "<pre>recommendations finished on 186000/330645 queries. users per second: 913.184</pre>"
            ],
            "text/plain": [
              "recommendations finished on 186000/330645 queries. users per second: 913.184"
            ]
          },
          "metadata": {
            "tags": []
          }
        },
        {
          "output_type": "display_data",
          "data": {
            "text/html": [
              "<pre>recommendations finished on 187000/330645 queries. users per second: 913.2</pre>"
            ],
            "text/plain": [
              "recommendations finished on 187000/330645 queries. users per second: 913.2"
            ]
          },
          "metadata": {
            "tags": []
          }
        }
      ]
    }
  ]
}